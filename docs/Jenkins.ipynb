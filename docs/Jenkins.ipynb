{
 "cells": [
  {
   "cell_type": "markdown",
   "metadata": {},
   "source": [
    "# Continuous Integration using Jenkins"
   ]
  },
  {
   "cell_type": "markdown",
   "metadata": {},
   "source": [
    "### Building a local Jenkins environment"
   ]
  },
  {
   "cell_type": "markdown",
   "metadata": {},
   "source": [
    "Using the installation instructions for Docker at https://jenkins.io/doc/book/installing/, create a local Docker Compose environment:"
   ]
  },
  {
   "cell_type": "raw",
   "metadata": {},
   "source": [
    "version: '2.4'\n",
    "\n",
    "volumes:\n",
    "  jenkins-data:\n",
    "    external: true\n",
    "  jenkins-docker-certs:\n",
    "    driver: local\n",
    "\n",
    "services:\n",
    "  docker:\n",
    "    build:\n",
    "      context: .\n",
    "      dockerfile: Dockerfile.dind\n",
    "    privileged: true\n",
    "    healthcheck:\n",
    "      test: docker ps -q\n",
    "      interval: 3s\n",
    "      retries: 10\n",
    "    environment:\n",
    "      DOCKER_TLS_CERTDIR: /certs\n",
    "    volumes:\n",
    "      - jenkins-docker-certs:/certs/client\n",
    "      - jenkins-data:/var/jenkins_home\n",
    "    ports:\n",
    "      - 2376:2376\n",
    "  jenkins:\n",
    "    image: jenkinsci/blueocean\n",
    "    depends_on:\n",
    "      docker:\n",
    "        condition: service_healthy\n",
    "    environment:\n",
    "      DOCKER_HOST: tcp://docker:2376\n",
    "      DOCKER_CERT_PATH: /certs/client\n",
    "      DOCKER_TLS_VERIFY: 1\n",
    "    volumes:\n",
    "      - jenkins-docker-certs:/certs/client:ro\n",
    "      - jenkins-data:/var/jenkins_home\n",
    "    ports:\n",
    "      - 8080:8080\n",
    "      - 50000:50000\n",
    "  agent:\n",
    "    image: cloudhotspot/docker-agent\n",
    "    build:\n",
    "      context: .\n",
    "      dockerfile: Dockerfile.agent"
   ]
  },
  {
   "cell_type": "markdown",
   "metadata": {},
   "source": [
    "Create a Dockerfile called `Dockerfile.dind` for Docker-in-Docker that allows Jenkins to run jobs as the Jenkins user (uid 1000).  The DIND entrypoint script will detect a group called docker on startup, and grant group ownership rights to `/var/run/docker.sock`."
   ]
  },
  {
   "cell_type": "code",
   "execution_count": null,
   "metadata": {},
   "outputs": [],
   "source": [
    "FROM docker:dind\n",
    "LABEL application=jenkins\n",
    "\n",
    "# Create docker group\n",
    "RUN addgroup -g 1000 docker"
   ]
  },
  {
   "cell_type": "markdown",
   "metadata": {},
   "source": [
    "Create a Dockerfile called `Dockerfile.agent` that will provide a Docker environment to run Jenkins builds.\n",
    "\n",
    "The agent only requires make, docker client and docker compose."
   ]
  },
  {
   "cell_type": "code",
   "execution_count": null,
   "metadata": {},
   "outputs": [],
   "source": [
    "FROM alpine\n",
    "LABEL application=jenkins\n",
    "\n",
    "RUN apk add --no-cache python3-dev musl-dev libffi-dev openssl-dev gcc bash git make coreutils curl\n",
    "RUN curl -fs -L https://download.docker.com/linux/static/stable/x86_64/docker-19.03.8.tgz | tar xvfz - --strip-components 1 -C /usr/local/bin docker/docker\n",
    "RUN pip3 install docker-compose"
   ]
  },
  {
   "cell_type": "markdown",
   "metadata": {},
   "source": [
    "Create a simple Makefile to automate various tasks for building and starting the Jenkins environment:"
   ]
  },
  {
   "cell_type": "raw",
   "metadata": {},
   "source": [
    ".PHONY: agent jenkins clean\n",
    "\n",
    "agent:\n",
    "\tdocker-compose build agent\n",
    "\tdocker-compose push agent\n",
    "\n",
    "jenkins:\n",
    "\tdocker-compose build docker\n",
    "\tdocker volume create --name=jenkins-data\n",
    "\tdocker-compose up -d jenkins\n",
    "\tdocker-compose logs -f jenkins\n",
    "\n",
    "clean:\n",
    "\tdocker-compose down -v\n",
    "\tdocker system prune --filter label=application=jenkins -f\n",
    "\n",
    "# Recommended settings\n",
    ".ONESHELL:\n",
    ".SILENT:\n",
    "SHELL=/bin/bash\n",
    ".SHELLFLAGS = -ceo pipefail"
   ]
  },
  {
   "cell_type": "markdown",
   "metadata": {},
   "source": [
    "Build and publish the agent image by running `make agent`:"
   ]
  },
  {
   "cell_type": "code",
   "execution_count": null,
   "metadata": {},
   "outputs": [],
   "source": [
    "$ make agent\n",
    "...\n",
    "..."
   ]
  },
  {
   "cell_type": "markdown",
   "metadata": {},
   "source": [
    "Start up environment by running `make jenkins`.  The output should show initial admin password:"
   ]
  },
  {
   "cell_type": "raw",
   "metadata": {},
   "source": [
    "$ make jenkins\n",
    "...\n",
    "...\n",
    "jenkins_1  | *************************************************************\n",
    "jenkins_1  | *************************************************************\n",
    "jenkins_1  | *************************************************************\n",
    "jenkins_1  | \n",
    "jenkins_1  | Jenkins initial setup is required. An admin user has been created and a password generated.\n",
    "jenkins_1  | Please use the following password to proceed to installation:\n",
    "jenkins_1  | \n",
    "jenkins_1  | 4d28e94328624004bb0e8411f48806a1\n",
    "jenkins_1  | \n",
    "jenkins_1  | This may also be found at: /var/jenkins_home/secrets/initialAdminPassword\n",
    "jenkins_1  | \n",
    "jenkins_1  | *************************************************************\n",
    "jenkins_1  | *************************************************************\n",
    "jenkins_1  | *************************************************************\n",
    "...\n",
    "..."
   ]
  },
  {
   "cell_type": "markdown",
   "metadata": {},
   "source": [
    "Browse to http://localhost:8080 and enter the initial admin password.\n",
    "\n",
    "When asked to install plugins, choose customise option and ensure the GitHub plugin is selected.\n",
    "\n",
    "After installation is completed, downgrade the GitHub API plugin as per https://issues.jenkins-ci.org/browse/JENKINS-61822?focusedCommentId=388713&page=com.atlassian.jira.plugin.system.issuetabpanels%3Acomment-tabpanel#comment-388713:\n",
    "\n",
    "- Go to http://updates.jenkins-ci.org/download/plugins/github-api/\n",
    "- Download 1.106 version plugin\n",
    "- Install via Manage Jenkins > Manage Plugins > Advanced > Upload Plugin"
   ]
  },
  {
   "cell_type": "markdown",
   "metadata": {},
   "source": [
    "### Create a new pipeline"
   ]
  },
  {
   "cell_type": "markdown",
   "metadata": {},
   "source": [
    "Use BlueOcean wizard to create an initial pipeline that runs:\n",
    "\n",
    "- make test\n",
    "- make release\n",
    "- make clean"
   ]
  },
  {
   "cell_type": "code",
   "execution_count": null,
   "metadata": {},
   "outputs": [],
   "source": []
  }
 ],
 "metadata": {
  "kernelspec": {
   "display_name": "todobackend",
   "language": "python",
   "name": "todobackend"
  },
  "language_info": {
   "name": ""
  }
 },
 "nbformat": 4,
 "nbformat_minor": 4
}
