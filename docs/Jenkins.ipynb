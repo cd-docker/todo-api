{
 "cells": [
  {
   "cell_type": "markdown",
   "metadata": {},
   "source": [
    "# Continuous Integration using Jenkins"
   ]
  },
  {
   "cell_type": "markdown",
   "metadata": {},
   "source": [
    "### Ngrok"
   ]
  },
  {
   "cell_type": "markdown",
   "metadata": {},
   "source": [
    "Go to https://ngrok.com and click on SignUp.  You can create an account using your GitHub login.\n",
    "\n",
    "Navigate to https://dashboard.ngrok.com/get-started/setup and add the auth token to a `.env` file:"
   ]
  },
  {
   "cell_type": "raw",
   "metadata": {},
   "source": [
    "NGROK_AUTH_TOKEN=xxxxxxxxx"
   ]
  },
  {
   "cell_type": "markdown",
   "metadata": {},
   "source": [
    "Add a `.gitignore` file that ignores `.env` files:"
   ]
  },
  {
   "cell_type": "raw",
   "metadata": {},
   "source": [
    ".env"
   ]
  },
  {
   "cell_type": "markdown",
   "metadata": {},
   "source": [
    "### Building a local Jenkins environment"
   ]
  },
  {
   "cell_type": "markdown",
   "metadata": {},
   "source": [
    "Using the installation instructions for Docker at https://jenkins.io/doc/book/installing/, create a local Docker Compose environment:"
   ]
  },
  {
   "cell_type": "raw",
   "metadata": {},
   "source": [
    "version: '2.4'\n",
    "\n",
    "volumes:\n",
    "  jenkins-data:\n",
    "    external: true\n",
    "  jenkins-docker-certs:\n",
    "    driver: local\n",
    "\n",
    "services:\n",
    "  docker:\n",
    "    build:\n",
    "      context: .\n",
    "      dockerfile: Dockerfile.dind\n",
    "    privileged: true\n",
    "    healthcheck:\n",
    "      test: docker ps -q\n",
    "      interval: 3s\n",
    "      retries: 10\n",
    "    environment:\n",
    "      DOCKER_TLS_CERTDIR: /certs\n",
    "    volumes:\n",
    "      - jenkins-docker-certs:/certs/client\n",
    "      - jenkins-data:/var/jenkins_home\n",
    "    ports:\n",
    "      - 2376:2376\n",
    "  jenkins:\n",
    "    image: jenkinsci/blueocean\n",
    "    depends_on:\n",
    "      docker:\n",
    "        condition: service_healthy\n",
    "      ngrok:\n",
    "        condition: service_healthy\n",
    "    environment:\n",
    "      DOCKER_HOST: tcp://docker:2376\n",
    "      DOCKER_CERT_PATH: /certs/client\n",
    "      DOCKER_TLS_VERIFY: 1\n",
    "    volumes:\n",
    "      - jenkins-docker-certs:/certs/client:ro\n",
    "      - jenkins-data:/var/jenkins_home\n",
    "    ports:\n",
    "      - 8080:8080\n",
    "  ngrok:\n",
    "    build:\n",
    "      context: .\n",
    "      dockerfile: Dockerfile.ngrok\n",
    "    healthcheck:\n",
    "      test: curl -fs localhost:4040\n",
    "      interval: 3s\n",
    "      retries: 10\n",
    "    command:\n",
    "      - ngrok\n",
    "      - http\n",
    "      - jenkins:8080\n",
    "      - --hostname=cd-docker-jenkins.ngrok.io\n",
    "      - --log=stdout\n",
    "      - --authtoken=${NGROK_AUTH_TOKEN}\n",
    "      - --inspect=false\n",
    "      - --bind-tls=true\n",
    "  agent:\n",
    "    image: continuousdeliverydocker/docker-agent\n",
    "    build:\n",
    "      context: .\n",
    "      dockerfile: Dockerfile.agent\n",
    "      args:\n",
    "        DOCKER_VERSION: 19.03.8"
   ]
  },
  {
   "cell_type": "markdown",
   "metadata": {},
   "source": [
    "Create a Dockerfile called `Dockerfile.ngrok` that installs ngrok to allow the local Jenkins container to be externally accessible:"
   ]
  },
  {
   "cell_type": "raw",
   "metadata": {},
   "source": [
    "FROM alpine\n",
    "LABEL application=jenkins\n",
    "\n",
    "RUN apk add --no-cache curl coreutils\n",
    "RUN curl -fs -L https://bin.equinox.io/c/4VmDzA7iaHb/ngrok-stable-linux-amd64.tgz | tar zxv -C /usr/local/bin"
   ]
  },
  {
   "cell_type": "markdown",
   "metadata": {},
   "source": [
    "Create a Dockerfile called `Dockerfile.agent` that will provide a Docker environment to run Jenkins builds.\n",
    "\n",
    "The agent only requires make, docker client and docker compose."
   ]
  },
  {
   "cell_type": "raw",
   "metadata": {},
   "source": [
    "FROM docker:dind\n",
    "LABEL application=jenkins\n",
    "\n",
    "# Create docker group\n",
    "RUN addgroup -g 1000 docker"
   ]
  },
  {
   "cell_type": "markdown",
   "metadata": {},
   "source": [
    "Create a Dockerfile called `Dockerfile.agent` that will provide a Docker environment to run Jenkins builds.\n",
    "\n",
    "The agent only requires make, docker client and docker compose."
   ]
  },
  {
   "cell_type": "raw",
   "metadata": {},
   "source": [
    "FROM alpine\n",
    "LABEL application=jenkins\n",
    "\n",
    "RUN apk add --no-cache python3-dev musl-dev libffi-dev openssl-dev gcc bash git make coreutils curl\n",
    "RUN curl -fs -L https://download.docker.com/linux/static/stable/x86_64/docker-19.03.8.tgz | tar xvfz - --strip-components 1 -C /usr/local/bin docker/docker\n",
    "RUN pip3 install docker-compose"
   ]
  },
  {
   "cell_type": "markdown",
   "metadata": {},
   "source": [
    "Create a simple Makefile to automate various tasks for building and starting the Jenkins environment:"
   ]
  },
  {
   "cell_type": "raw",
   "metadata": {},
   "source": [
    ".PHONY: agent jenkins clean\n",
    "\n",
    "agent:\n",
    "\tdocker-compose build agent\n",
    "\tdocker-compose push agent\n",
    "\n",
    "jenkins:\n",
    "\tdocker-compose build docker\n",
    "\tdocker volume create --name=jenkins-data\n",
    "\tdocker-compose up -d jenkins\n",
    "\tdocker-compose logs -f jenkins\n",
    "\n",
    "clean:\n",
    "\tdocker-compose down -v\n",
    "\tdocker system prune --filter label=application=jenkins -f\n",
    "\n",
    "# Recommended settings\n",
    ".ONESHELL:\n",
    ".SILENT:\n",
    "SHELL=/bin/bash\n",
    ".SHELLFLAGS = -ceo pipefail"
   ]
  },
  {
   "cell_type": "markdown",
   "metadata": {},
   "source": [
    "Build and publish the agent image by running `make agent`:"
   ]
  },
  {
   "cell_type": "code",
   "execution_count": null,
   "metadata": {},
   "outputs": [],
   "source": [
    "$ make agent\n",
    "...\n",
    "..."
   ]
  },
  {
   "cell_type": "markdown",
   "metadata": {},
   "source": [
    "Start up environment by running `make jenkins`.  The output should show initial admin password:"
   ]
  },
  {
   "cell_type": "raw",
   "metadata": {},
   "source": [
    "$ make jenkins\n",
    "...\n",
    "...\n",
    "jenkins_1  | *************************************************************\n",
    "jenkins_1  | *************************************************************\n",
    "jenkins_1  | *************************************************************\n",
    "jenkins_1  | \n",
    "jenkins_1  | Jenkins initial setup is required. An admin user has been created and a password generated.\n",
    "jenkins_1  | Please use the following password to proceed to installation:\n",
    "jenkins_1  | \n",
    "jenkins_1  | 4d28e94328624004bb0e8411f48806a1\n",
    "jenkins_1  | \n",
    "jenkins_1  | This may also be found at: /var/jenkins_home/secrets/initialAdminPassword\n",
    "jenkins_1  | \n",
    "jenkins_1  | *************************************************************\n",
    "jenkins_1  | *************************************************************\n",
    "jenkins_1  | *************************************************************\n",
    "...\n",
    "..."
   ]
  },
  {
   "cell_type": "markdown",
   "metadata": {},
   "source": [
    "Browse to your configured ngrok url (e.g. https://cd-docker-jenkins.ngrok.io) or alternatively http://localhost:8080 and enter the initial admin password.\n",
    "\n",
    "When asked to install plugins, choose Install Suggested Plugins option.\n",
    "\n",
    "Add a new user called admin when prompted.\n",
    "\n",
    "In Instance Configuration, ensure the URL is configured as your external ngrok URL (e.g. https://cd-docker-jenkins.ngrok.io/)\n",
    "\n",
    "When asked to install plugins, choose customise option and ensure the following plugins are selected:\n",
    "\n",
    "- GitHub\n",
    "- Pipeline GitHub Notify Step Plugin\n",
    "- Pipeline Utility Steps\n",
    "- disable-github-multibranch-status-plugin"
   ]
  },
  {
   "cell_type": "markdown",
   "metadata": {},
   "source": [
    "### Configure GitHub Plugin"
   ]
  },
  {
   "cell_type": "markdown",
   "metadata": {},
   "source": [
    "In GitHub create a new personal token with the following scopes:\n",
    "\n",
    "- repo\n",
    "- admin:repo_hook\n",
    "- read:user\n",
    "- read:email"
   ]
  },
  {
   "cell_type": "markdown",
   "metadata": {},
   "source": [
    "Browse to **Manage Jenkins -> System**.\n",
    "\n",
    "In GitHub section add a new GitHub server called GitHub, adding a new credential of type secret text with the GitHub personal token and enabling Manage Hooks.  Click on Test Connection to verify the configuration and then Save."
   ]
  },
  {
   "cell_type": "markdown",
   "metadata": {},
   "source": [
    "### Create a new pipeline"
   ]
  },
  {
   "cell_type": "markdown",
   "metadata": {},
   "source": [
    "Use BlueOcean wizard to create an initial pipeline that runs:\n",
    "\n",
    "- make build\n",
    "- make test\n",
    "- make release\n",
    "- make clean\n",
    "\n",
    "Configure the pipeline to use Docker agent image."
   ]
  },
  {
   "cell_type": "raw",
   "metadata": {},
   "source": [
    "pipeline {\n",
    "  agent {\n",
    "    docker {\n",
    "      image 'continuousdeliverydocker/docker-agent'\n",
    "    }\n",
    "  }\n",
    "  stages {\n",
    "    stage('Build') {\n",
    "      steps {\n",
    "        sh 'make build'\n",
    "      }\n",
    "    }\n",
    "\n",
    "    stage('Test') {\n",
    "      steps {\n",
    "        sh 'make test'\n",
    "      }\n",
    "    }\n",
    "\n",
    "    stage('Release') {\n",
    "      steps {\n",
    "        sh 'make release'\n",
    "      }\n",
    "    }\n",
    "  }\n",
    "  post {\n",
    "    always {\n",
    "      sh 'make clean'\n",
    "    }\n",
    "  }\n",
    "}"
   ]
  },
  {
   "cell_type": "markdown",
   "metadata": {},
   "source": [
    "### Configure pipeline to collect test reports"
   ]
  },
  {
   "cell_type": "markdown",
   "metadata": {},
   "source": [
    "In post section of Jenkinsfile, add junit step:"
   ]
  },
  {
   "cell_type": "raw",
   "metadata": {},
   "source": [
    "pipeline {\n",
    "  ...\n",
    "  ...    \n",
    "  post {\n",
    "    always {\n",
    "      junit allowEmptyResults: true, testResults: '**/reports/*.xml'\n",
    "      sh 'make clean'\n",
    "    }\n",
    "  }\n",
    "}"
   ]
  },
  {
   "cell_type": "markdown",
   "metadata": {},
   "source": [
    "### Configure pipeline to publish Docker images"
   ]
  },
  {
   "cell_type": "markdown",
   "metadata": {},
   "source": [
    "Browse to **Credentials -> Global** and add two new credentials:\n",
    "\n",
    "- docker-user (secret text) - set the username of Docker Hub account\n",
    "- docker-password (secret file) - upload a file with the password of Docker Hub account (this approach is more secure)"
   ]
  },
  {
   "cell_type": "markdown",
   "metadata": {},
   "source": [
    "Add login and logout tasks to Makefile:"
   ]
  },
  {
   "cell_type": "raw",
   "metadata": {},
   "source": [
    "login:\n",
    "\t${INFO} \"Logging into Docker Hub...\"\n",
    "\tcat $$DOCKER_PASSWORD | docker login --username $$DOCKER_USER --password-stdin\n",
    "\t${INFO} \"Login stage complete\"\n",
    "\n",
    "logout:\n",
    "\t${INFO} \"Logging out...\"\n",
    "\tdocker logout\n",
    "\t${INFO} \"Logout stage complete\""
   ]
  },
  {
   "cell_type": "markdown",
   "metadata": {},
   "source": [
    "Add environment variables to Jenkinsfile:"
   ]
  },
  {
   "cell_type": "raw",
   "metadata": {},
   "source": [
    "pipeline {\n",
    "  ...    \n",
    "  environment {\n",
    "    DOCKER_USER     = credentials('docker-user')\n",
    "    DOCKER_PASSWORD = credentials('docker-password')\n",
    "  }\n",
    "  ...\n",
    "}"
   ]
  },
  {
   "cell_type": "markdown",
   "metadata": {},
   "source": [
    "Add publish stage to Jenkinsfile (after release stage) and add `make logout` task to post:"
   ]
  },
  {
   "cell_type": "raw",
   "metadata": {},
   "source": [
    "pipeline {\n",
    "  ...    \n",
    "  stages {\n",
    "    ...\n",
    "    stage('Publish') {\n",
    "      steps {\n",
    "        sh 'make login'\n",
    "        sh 'make publish'\n",
    "      }\n",
    "    }\n",
    "  }\n",
    "  post {\n",
    "    always {\n",
    "      junit allowEmptyResults: true, testResults: '**/reports/*.xml'\n",
    "      sh 'make clean'\n",
    "      sh 'make logout'\n",
    "    }\n",
    "  }\n",
    "}"
   ]
  },
  {
   "cell_type": "markdown",
   "metadata": {},
   "source": [
    "The `make login` command because the job runs as user ID 1000 in the Docker agent.\n",
    "\n",
    "To resolve this add a tmpfs mount in the docker agent configuration:"
   ]
  },
  {
   "cell_type": "raw",
   "metadata": {},
   "source": [
    "pipeline {\n",
    "  agent {\n",
    "    docker {\n",
    "      image 'continuousdeliverydocker/docker-agent'\n",
    "      args '-v /var/run/docker.sock:/var/run/docker.sock --mount type=tmpfs,destination=/.docker'\n",
    "    }\n",
    "  }\n",
    "  ...\n",
    "  ...\n",
    "}"
   ]
  },
  {
   "cell_type": "markdown",
   "metadata": {},
   "source": [
    "### Configure pipeline for a PR-based CD workflow"
   ]
  },
  {
   "cell_type": "markdown",
   "metadata": {},
   "source": [
    "Configure the pipeline job in Jenkins as follows:\n",
    "\n",
    "1. Add **Filter by name (with wildcards)** behaviour to branch sources\n",
    "2. Configure the include filter with the expression `master PR*`\n",
    "3. Add **Disable GitHub Notifications** behaviour to branch sources\n",
    "\n",
    "This configuration will only trigger the pipeline for changes to the master branch or for branches that have an open pull request, and will disable the default GitHub notification behaviour."
   ]
  },
  {
   "cell_type": "markdown",
   "metadata": {},
   "source": [
    "Create a new branch called `pr_workflow` or similar and configure the build, test, release and publish stages to only execute when the pipeline is triggered by a pull request:"
   ]
  },
  {
   "cell_type": "raw",
   "metadata": {},
   "source": [
    "pipeline {\n",
    "  ...\n",
    "  stages {\n",
    "    stage('Build') {\n",
    "      when {\n",
    "        changeRequest()\n",
    "      }\n",
    "      steps {\n",
    "        sh 'make build'\n",
    "      }\n",
    "    }\n",
    "\n",
    "    stage('Test') {\n",
    "      when {\n",
    "        changeRequest()\n",
    "      }\n",
    "      steps {\n",
    "        sh 'make test'\n",
    "      }\n",
    "    }\n",
    "\n",
    "    stage('Release') {\n",
    "      when {\n",
    "        changeRequest()\n",
    "      }\n",
    "      steps {\n",
    "        sh 'make release'\n",
    "      }\n",
    "    }\n",
    "\n",
    "    stage('Publish') {\n",
    "      when {\n",
    "        changeRequest()\n",
    "      }\n",
    "      steps {\n",
    "        sh 'make login'\n",
    "        sh 'make publish'\n",
    "      }\n",
    "    }\n",
    "  }\n",
    "  ...\n",
    "}"
   ]
  },
  {
   "cell_type": "markdown",
   "metadata": {},
   "source": [
    "Commit the change and push the branch to GitHub - at this point because the branch is not the master branch and no PR has been created, no build should be triggered in Jenkins.\n",
    "\n",
    "Next, create a pull request.  Now a build should be triggered for the pull request.  Notice that Jenkins publishes a status check into GitHub indicating the build is in progress, and eventually that the build succeeded or failed.\n",
    "\n",
    "If you now merge the PR, notice that when the master build is triggered, the build no longer does anything."
   ]
  },
  {
   "cell_type": "markdown",
   "metadata": {},
   "source": [
    "### Configure a Branch Protection Rule in GitHub"
   ]
  },
  {
   "cell_type": "markdown",
   "metadata": {},
   "source": [
    "Configure a branch protection rule for the master branch that includes the following settings:\n",
    "    \n",
    "- Enable **Require status checks to pass before merging**\n",
    "- Enable **Require branches to be up to date before merging**\n",
    "- Enable **continuous-integration/jenkins/pr-merge** as a required status check\n",
    "- Enable **Include administrators**\n",
    "\n",
    "After saving this branch protection rule, you should no longer be able to push directly to the master branch"
   ]
  },
  {
   "cell_type": "markdown",
   "metadata": {},
   "source": [
    "In **Settings -> Options** ensure only the **Allow merge commits** setting is enabled in Merge Button section"
   ]
  },
  {
   "cell_type": "markdown",
   "metadata": {},
   "source": [
    "### Creating Releases on Merge to Master"
   ]
  },
  {
   "cell_type": "markdown",
   "metadata": {},
   "source": [
    "Create a new branch called `publish_and_tag_releases` or similar.\n",
    "\n",
    "In the `Makefile` add the following variables.\n",
    "\n",
    "The GIT_TAG variable prints latest semantic version tag\n",
    "The PR_COMMIT variable shows the 2nd most recent parent as related to HEAD (1st parent commit is the master branch merge commit), which is the PR commit before it was merged.  This is important as this is what our built Docker image was tagged with."
   ]
  },
  {
   "cell_type": "raw",
   "metadata": {},
   "source": [
    "GIT_TAG := $(shell git tag | grep ^[[:digit:]]*.[[:digit:]]*.[[:digit:]]*$$ || printf '0.0.0')\n",
    "PR_COMMIT := $(shell git show --no-patch --format=\"%H\" HEAD^2 2>/dev/null || echo $(GIT_COMMIT))"
   ]
  },
  {
   "cell_type": "markdown",
   "metadata": {},
   "source": [
    "Create a file called `VERSION` and add an initial target semantic version:"
   ]
  },
  {
   "cell_type": "raw",
   "metadata": {},
   "source": [
    "0.1.0"
   ]
  },
  {
   "cell_type": "markdown",
   "metadata": {},
   "source": [
    "Add the following to the bottom of the Makefile.\n",
    "\n",
    "This will compare the current git tag with the target version in the `VERSION` file, and take the higher version of the following:\n",
    "\n",
    "- Bumped git tag version (e.g. if current git tag is 0.4.3, the bumped version is 0.4.4)\n",
    "- Target version\n",
    "\n",
    "E.g. if target version is `0.1.0` then the bumped git tag version of `0.4.4` becomes the new version, if target version is `0.5.0` then `0.5.0` becomes the new version."
   ]
  },
  {
   "cell_type": "raw",
   "metadata": {},
   "source": [
    "# Functions\n",
    "define version\n",
    "\tcurrent_versions=( $$(printf \"$(GIT_TAG)\" | sort -V) )\n",
    "\tcurrent_version=$${current_versions[@]:(-1)}\n",
    "\ttarget_version=$(file <VERSION)\n",
    "\tparts=( $${current_version//./ } )\n",
    "\t((parts[2]++))\n",
    "\tnew_version=\"$${parts[0]}.$${parts[1]}.$${parts[2]}\"\n",
    "\tversions=( $$(printf \"$$target_version\\n$$new_version\" | sort -V) )\n",
    "\tversion=$${versions[@]:(-1)}\n",
    "endef"
   ]
  },
  {
   "cell_type": "markdown",
   "metadata": {},
   "source": [
    "Add a `version` task to the Makefile:"
   ]
  },
  {
   "cell_type": "raw",
   "metadata": {},
   "source": [
    "version:\n",
    "\t$(call version)\n",
    "\t${INFO} \"Git commit: $(GIT_COMMIT)\"\n",
    "\t${INFO} \"Pull request commit: $(PR_COMMIT)\"\n",
    "\t${INFO} \"Current version: $$current_version\"\n",
    "\t${INFO} \"Next version: $$version\""
   ]
  },
  {
   "cell_type": "markdown",
   "metadata": {},
   "source": [
    "Add a `tag` task to the Makefile.\n",
    "\n",
    "This task first pulls the PR_COMMIT image (remember the PR must build and publish this image successfully for the PR to be merged), and then tags/pushes the image with the next version and `latest` tags.  Finally a new tag and release is created in GitHub using the `hub` utility."
   ]
  },
  {
   "cell_type": "raw",
   "metadata": {},
   "source": [
    "tag:\n",
    "\t$(call version)\n",
    "\t${INFO} \"Pulling image $(PR_COMMIT)...\"\n",
    "\tdocker pull continuousdeliverydocker/todobackend:$(PR_COMMIT)\n",
    "\t${INFO} \"Tagging image $(PR_COMMIT) with $$version and latest tags...\"\n",
    "\tdocker tag continuousdeliverydocker/todobackend:$(PR_COMMIT) continuousdeliverydocker/todobackend:$$version\n",
    "\tdocker tag continuousdeliverydocker/todobackend:$(PR_COMMIT) continuousdeliverydocker/todobackend:latest\n",
    "\tdocker push continuousdeliverydocker/todobackend:$$version\n",
    "\tdocker push continuousdeliverydocker/todobackend:latest\n",
    "\thub release create -m \"$$version\" $$version\n",
    "\t${INFO} \"Tag stage complete\""
   ]
  },
  {
   "cell_type": "markdown",
   "metadata": {},
   "source": [
    "Add a `tag` stage to the Jenkinsfile - also need to add `GITHUB_TOKEN` to the environment section to ensure the `hub` command in the `tag` task works.\n",
    "\n",
    "The `tag` stage must be configured to only run for the master branch:"
   ]
  },
  {
   "cell_type": "raw",
   "metadata": {},
   "source": [
    "pipeline {\n",
    "  ...\n",
    "  ...\n",
    "  environment {\n",
    "    DOCKER_USER     = credentials('docker-user')\n",
    "    DOCKER_PASSWORD = credentials('docker-password')\n",
    "    GITHUB_TOKEN    = credentials('github-token')\n",
    "  }\n",
    "  stages {\n",
    "    ...\n",
    "    ...\n",
    "    stage('Tag') {\n",
    "      when {\n",
    "        branch 'master'\n",
    "      }\n",
    "      steps {\n",
    "        sh 'make login'\n",
    "        sh 'make tag'\n",
    "      }\n",
    "    }\n",
    "  }\n",
    "  ...\n",
    "  ...\n",
    "}"
   ]
  },
  {
   "cell_type": "markdown",
   "metadata": {},
   "source": [
    "Merge the Pull Request.  In Jenkins the master job should now execute the `tag` stage, which results in tagged Docker image and a new GitHub release."
   ]
  },
  {
   "cell_type": "code",
   "execution_count": null,
   "metadata": {},
   "outputs": [],
   "source": []
  }
 ],
 "metadata": {
  "kernelspec": {
   "display_name": "todobackend",
   "language": "python",
   "name": "todobackend"
  },
  "language_info": {
   "codemirror_mode": {
    "name": "ipython",
    "version": 3
   },
   "file_extension": ".py",
   "mimetype": "text/x-python",
   "name": "python",
   "nbconvert_exporter": "python",
   "pygments_lexer": "ipython3",
   "version": "3.7.7"
  }
 },
 "nbformat": 4,
 "nbformat_minor": 4
}
