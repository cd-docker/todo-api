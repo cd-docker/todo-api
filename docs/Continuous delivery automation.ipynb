{
 "cells": [
  {
   "cell_type": "markdown",
   "metadata": {},
   "source": [
    "# Continuous Delivery Automation"
   ]
  },
  {
   "cell_type": "markdown",
   "metadata": {},
   "source": [
    "### Create Makefile"
   ]
  },
  {
   "cell_type": "markdown",
   "metadata": {},
   "source": [
    "Create an empty Makefile"
   ]
  },
  {
   "cell_type": "raw",
   "metadata": {},
   "source": [
    "test:\n",
    "    echo test\n",
    "\n",
    "release:\n",
    "    echo release\n",
    "\n",
    "# Make settings\n",
    ".PHONY: test release\n",
    ".ONESHELL:\n",
    ".SILENT:\n",
    "SHELL=/bin/bash\n",
    ".SHELLFLAGS = -ceo pipefail"
   ]
  },
  {
   "cell_type": "markdown",
   "metadata": {},
   "source": [
    "Run local Docker container with project mounted:"
   ]
  },
  {
   "cell_type": "raw",
   "metadata": {},
   "source": [
    "docker run -it --rm -v ${PWD}:/app -p 8000:8000 alpine:3.10"
   ]
  },
  {
   "cell_type": "markdown",
   "metadata": {},
   "source": [
    "Run following commands to attempt initial install:"
   ]
  },
  {
   "cell_type": "raw",
   "metadata": {},
   "source": [
    "cd app\n",
    "apk add --no-cache python3\n",
    "pip3 install pipenv\n",
    "pipenv install --dev --deploy"
   ]
  },
  {
   "cell_type": "markdown",
   "metadata": {},
   "source": [
    "Following installation error will occur:\n",
    "\n",
    "`/bin/sh: mysql_config: not found`\n",
    "\n",
    "Install `mariadb-dev` and retry:"
   ]
  },
  {
   "cell_type": "raw",
   "metadata": {},
   "source": [
    "apk add --no-cache mariadb-dev\n",
    "pipenv install --dev --deploy"
   ]
  },
  {
   "cell_type": "markdown",
   "metadata": {},
   "source": [
    "Following installation error will occur:\n",
    "\n",
    "`unable to execute 'gcc': No such file or directory`\n",
    "\n",
    "Install `gcc` and retry:"
   ]
  },
  {
   "cell_type": "raw",
   "metadata": {},
   "source": [
    "apk add --no-cache gcc\n",
    "pipenv install --dev --deploy"
   ]
  },
  {
   "cell_type": "markdown",
   "metadata": {},
   "source": [
    "Following installation error will occur:\n",
    "\n",
    "`/usr/include/mysql/mysql.h:38:10: fatal error: sys/types.h: No such file or directory`\n",
    "\n",
    "Install `musl-dev` and retry:"
   ]
  },
  {
   "cell_type": "raw",
   "metadata": {},
   "source": [
    "apk add --no-cache musl-dev\n",
    "pipenv install --dev --deploy"
   ]
  },
  {
   "cell_type": "markdown",
   "metadata": {},
   "source": [
    "Following installation error will occur:\n",
    "\n",
    "`MySQLdb/_mysql.c:38:10: fatal error: Python.h: No such file or directory`\n",
    "\n",
    "Install `python3-dev` and retry:"
   ]
  },
  {
   "cell_type": "raw",
   "metadata": {},
   "source": [
    "apk add --no-cache python3-dev\n",
    "pipenv install --dev --deploy"
   ]
  },
  {
   "cell_type": "markdown",
   "metadata": {},
   "source": [
    "Installation should succeed!\n",
    "\n",
    "Now activate pipenv shell and verify application works:"
   ]
  },
  {
   "cell_type": "raw",
   "metadata": {},
   "source": [
    "pipenv shell\n",
    "cd src\n",
    "python3 manage.py test\n",
    "python3 manage.py runserver"
   ]
  },
  {
   "cell_type": "markdown",
   "metadata": {},
   "source": [
    "Tests should pass but can't connect to server from machine.\n",
    "\n",
    "Instead run the following, application will work, note existing Todo items due to volume mount"
   ]
  },
  {
   "cell_type": "raw",
   "metadata": {},
   "source": [
    "python3 manage.py runserver 0.0.0.0:8000"
   ]
  },
  {
   "cell_type": "markdown",
   "metadata": {},
   "source": [
    "Run `history` command and add commands to Dockerfile"
   ]
  },
  {
   "cell_type": "raw",
   "metadata": {},
   "source": [
    "FROM alpine:3.10\n",
    "LABEL application=todobackend\n",
    "\n",
    "# Language settings\n",
    "ENV LANG=C.UTF-8\n",
    "ENV LC_ALL=C.UTF-8\n",
    "\n",
    "# Install build dependencies\n",
    "RUN apk add --no-cache gcc python3-dev musl-dev linux-headers mariadb-dev\n",
    "RUN pip3 install pipenv\n",
    "\n",
    "# Copy project\n",
    "COPY . /app/\n",
    "WORKDIR /app\n",
    "\n",
    "# Build and install application dependencies\n",
    "RUN pipenv install --dev --deploy\n",
    "\n",
    "# Test reports\n",
    "VOLUME /reports\n",
    "\n",
    "# Run commands in virtual environment\n",
    "ENTRYPOINT [\"pipenv\", \"run\"]\n",
    "\n",
    "# Run test commands by default\n",
    "WORKDIR /app/src\n",
    "CMD [\"python\", \"manage.py\", \"test\", \"--noinput\"]"
   ]
  },
  {
   "cell_type": "markdown",
   "metadata": {},
   "source": [
    "Build Dockerfile and run image:"
   ]
  },
  {
   "cell_type": "raw",
   "metadata": {},
   "source": [
    "docker build -t todobackend .\n",
    "docker run -it --rm todobackend"
   ]
  },
  {
   "cell_type": "markdown",
   "metadata": {},
   "source": [
    "**COMMIT CHANGES**"
   ]
  },
  {
   "cell_type": "markdown",
   "metadata": {},
   "source": [
    "### Improve image"
   ]
  },
  {
   "cell_type": "markdown",
   "metadata": {},
   "source": [
    "Split copy stages for Pipfile"
   ]
  },
  {
   "cell_type": "raw",
   "metadata": {},
   "source": [
    "FROM alpine:3.10\n",
    "LABEL application=todobackend\n",
    "\n",
    "# Install build dependencies\n",
    "RUN apk add --no-cache gcc python3-dev musl-dev linux-headers mariadb-dev\n",
    "RUN pip3 install pipenv\n",
    "\n",
    "# Copy Pipfiles\n",
    "COPY Pipfile* /app/\n",
    "WORKDIR /app\n",
    "\n",
    "# Build and install application dependencies\n",
    "RUN pipenv install --dev --deploy\n",
    "\n",
    "# Test reports\n",
    "VOLUME /reports\n",
    "\n",
    "# Run commands in virtual environment\n",
    "ENTRYPOINT [\"pipenv\", \"run\"]\n",
    "\n",
    "# Run test commands by default\n",
    "WORKDIR /app/src\n",
    "CMD [\"python\", \"manage.py\", \"test\", \"--noinput\"]\n",
    "\n",
    "# Copy project\n",
    "COPY . /app/"
   ]
  },
  {
   "cell_type": "markdown",
   "metadata": {},
   "source": [
    "Internally inspect image"
   ]
  },
  {
   "cell_type": "raw",
   "metadata": {},
   "source": [
    "docker run -it --rm todobackend sh\n",
    "cd ..\n",
    "ls -lah (will show .env, .git etc)\n",
    "cd src (will show sqlite3 and xml test files)\n",
    "cd todo (will show pycache files)"
   ]
  },
  {
   "cell_type": "markdown",
   "metadata": {},
   "source": [
    "Modify Docker image to only copy `src` folder"
   ]
  },
  {
   "cell_type": "raw",
   "metadata": {},
   "source": [
    "FROM alpine:3.10\n",
    "LABEL application=todobackend\n",
    "\n",
    "# Install build dependencies\n",
    "RUN apk add --no-cache gcc python3-dev musl-dev linux-headers mariadb-dev\n",
    "RUN pip3 install pipenv\n",
    "\n",
    "# Copy Pipfiles\n",
    "COPY Pipfile* /app/\n",
    "WORKDIR /app\n",
    "\n",
    "# Build and install application dependencies\n",
    "RUN pipenv install --dev --deploy\n",
    "\n",
    "# Test reports\n",
    "VOLUME /reports\n",
    "\n",
    "# Run commands in virtual environment\n",
    "ENTRYPOINT [\"pipenv\", \"run\"]\n",
    "\n",
    "# Run test commands by default\n",
    "WORKDIR /app/src\n",
    "CMD [\"python\", \"manage.py\", \"test\", \"--noinput\"]\n",
    "\n",
    "# Copy application source\n",
    "COPY tests /app/tests\n",
    "COPY src /app/src"
   ]
  },
  {
   "cell_type": "markdown",
   "metadata": {},
   "source": [
    "Create `.dockerignore` file to exclude other files"
   ]
  },
  {
   "cell_type": "raw",
   "metadata": {},
   "source": [
    ".env\n",
    ".git\n",
    ".gitignore\n",
    ".pytest_cache\n",
    ".vscode\n",
    "src/.coverage\n",
    "src/*.xml\n",
    "src/*.sqlite3\n",
    "**/__pycache__"
   ]
  },
  {
   "cell_type": "markdown",
   "metadata": {},
   "source": [
    "### Docker build cache"
   ]
  },
  {
   "cell_type": "markdown",
   "metadata": {},
   "source": [
    "First add numpy to pip3 install and time build - will take 2-3 minutes\n",
    "\n",
    "Then add awscli to pip3 install and time build - will take 2-3 minutes"
   ]
  },
  {
   "cell_type": "markdown",
   "metadata": {},
   "source": [
    "Enable Docker BuildKit via .env file:"
   ]
  },
  {
   "cell_type": "raw",
   "metadata": {},
   "source": [
    "PYTHONPATH=${PWD}/src:${PYTHONPATH}\n",
    "DOCKER_BUILDKIT=1"
   ]
  },
  {
   "cell_type": "markdown",
   "metadata": {},
   "source": [
    "Now add support for build cache:"
   ]
  },
  {
   "cell_type": "raw",
   "metadata": {},
   "source": [
    "# syntax = docker/dockerfile:experimental\n",
    "FROM alpine:3.10\n",
    "LABEL application=todobackend\n",
    "\n",
    "# Language settings\n",
    "ENV LANG=C.UTF-8\n",
    "ENV LC_ALL=C.UTF-8\n",
    "\n",
    "# Install build dependencies\n",
    "RUN apk add --no-cache gcc python3-dev musl-dev linux-headers mariadb-dev\n",
    "RUN --mount=type=cache,target=/root/.cache/pip \\\n",
    "    pip3 install pipenv\n",
    "\n",
    "# Copy Pipfiles\n",
    "COPY Pipfile* /app/\n",
    "WORKDIR /app\n",
    "\n",
    "# Build and install application dependencies\n",
    "RUN pipenv install --dev --deploy\n",
    "\n",
    "# Test reports\n",
    "VOLUME /reports\n",
    "\n",
    "# Run commands in virtual environment\n",
    "ENTRYPOINT [\"pipenv\", \"run\"]\n",
    "\n",
    "# Run test commands by default\n",
    "WORKDIR /app/src\n",
    "CMD [\"python\", \"manage.py\", \"test\", \"--noinput\"]\n",
    "\n",
    "# Copy application source\n",
    "COPY tests /app/tests\n",
    "COPY src /app/src"
   ]
  },
  {
   "cell_type": "markdown",
   "metadata": {},
   "source": [
    "First add numpy to pip3 install and time build - will take 2-3 minutes\n",
    "\n",
    "Then add awscli to pip3 install and time build - will take much shorter time"
   ]
  },
  {
   "cell_type": "markdown",
   "metadata": {},
   "source": [
    "Now add numpy via pipenv install and time build - will take 2-3 minutes\n",
    "\n",
    "Add awscli via pipenv install and time build - will take 2-3 minutes\n",
    "\n",
    "Add support for build cache:"
   ]
  },
  {
   "cell_type": "raw",
   "metadata": {},
   "source": [
    "# syntax = docker/dockerfile:experimental\n",
    "FROM alpine:3.10\n",
    "LABEL application=todobackend\n",
    "\n",
    "# Language settings\n",
    "ENV LANG=C.UTF-8\n",
    "ENV LC_ALL=C.UTF-8\n",
    "\n",
    "# Install build dependencies\n",
    "RUN apk add --no-cache gcc python3-dev musl-dev linux-headers mariadb-dev\n",
    "RUN --mount=type=cache,target=/root/.cache \\\n",
    "    pip3 install pipenv\n",
    "\n",
    "# Create skeleton virtual environment\n",
    "WORKDIR /app\n",
    "RUN pipenv install\n",
    "\n",
    "# Copy Pipfiles\n",
    "COPY Pipfile* /app/\n",
    "\n",
    "# Build and install application dependencies\n",
    "RUN --mount=type=cache,target=/root/.cache \\\n",
    "    --mount=type=cache,target=/root/.local/share/virtualenvs \\\n",
    "    --mount=type=cache,target=/build \\\n",
    "    pipenv install --dev --deploy && \\\n",
    "    pipenv clean && \\\n",
    "    rsync -avh --delete $(pipenv --venv)/ /build/\n",
    "\n",
    "# Copy virtual environment from temporary build cache\n",
    "RUN --mount=type=cache,target=/build \\\n",
    "    rsync -avh --delete /build/ $(pipenv --venv)/ \n",
    "\n",
    "# Test reports\n",
    "VOLUME /reports\n",
    "\n",
    "# Run commands in virtual environment\n",
    "ENTRYPOINT [\"pipenv\", \"run\"]\n",
    "\n",
    "# Run test commands by default\n",
    "WORKDIR /app/src\n",
    "CMD [\"python\", \"manage.py\", \"test\", \"--noinput\"]\n",
    "\n",
    "# Copy application source\n",
    "COPY tests /app/tests\n",
    "COPY src /app/src"
   ]
  },
  {
   "cell_type": "markdown",
   "metadata": {},
   "source": [
    "Now add numpy via pipenv install and time build - will take 2-3 minutes\n",
    "\n",
    "Add awscli via pipenv install and time build - will take much shorter time"
   ]
  },
  {
   "cell_type": "markdown",
   "metadata": {},
   "source": [
    "**COMMIT CHANGES**"
   ]
  },
  {
   "cell_type": "markdown",
   "metadata": {},
   "source": [
    "### Docker Compose"
   ]
  },
  {
   "cell_type": "markdown",
   "metadata": {},
   "source": [
    "Try to run tests using the test settings, this will fail with a DB connection error:"
   ]
  },
  {
   "cell_type": "raw",
   "metadata": {},
   "source": [
    "docker run -it --rm -e DJANGO_SETTINGS_MODULE=todobackend.settings.test todobackend"
   ]
  },
  {
   "cell_type": "markdown",
   "metadata": {},
   "source": [
    "Create a docker-compose.yml file:"
   ]
  },
  {
   "cell_type": "raw",
   "metadata": {},
   "source": [
    "version: '2.4'\n",
    "\n",
    "services:\n",
    "  # Test services\n",
    "  test:\n",
    "    build:\n",
    "      context: .\n",
    "      dockerfile: Dockerfile"
   ]
  },
  {
   "cell_type": "markdown",
   "metadata": {},
   "source": [
    "Enable Docker BuildKit via .env file:"
   ]
  },
  {
   "cell_type": "raw",
   "metadata": {},
   "source": [
    "PYTHONPATH=${PWD}/src:${PYTHONPATH}\n",
    "DOCKER_BUILDKIT=1\n",
    "COMPOSE_DOCKER_CLI_BUILD=1"
   ]
  },
  {
   "cell_type": "markdown",
   "metadata": {},
   "source": [
    "Run `docker-compose up`"
   ]
  },
  {
   "cell_type": "markdown",
   "metadata": {},
   "source": [
    "Add test settings and database service to `docker-compose.yml`:"
   ]
  },
  {
   "cell_type": "raw",
   "metadata": {},
   "source": [
    "version: '2.4'\n",
    "\n",
    "services:\n",
    "  # Test services\n",
    "  test:\n",
    "    build:\n",
    "      context: .\n",
    "      dockerfile: Dockerfile\n",
    "    environment:\n",
    "      DJANGO_SETTINGS_MODULE: todobackend.settings.test\n",
    "      TEST_OUTPUT_DIR: /reports\n",
    "      MYSQL_HOST: test-db\n",
    "      MYSQL_USER: root\n",
    "      MYSQL_PASSWORD: password\n",
    "  test-db:\n",
    "    image: mariadb:10.5\n",
    "    environment:\n",
    "      MYSQL_ROOT_PASSWORD: password"
   ]
  },
  {
   "cell_type": "markdown",
   "metadata": {},
   "source": [
    "Run `docker-compose up test-db`\n",
    "Then run `docker-compose up test`\n",
    "\n",
    "To create dependency add the following:"
   ]
  },
  {
   "cell_type": "raw",
   "metadata": {},
   "source": [
    "version: '2.4'\n",
    "\n",
    "services:\n",
    "  # Test services\n",
    "  test:\n",
    "    build:\n",
    "      context: .\n",
    "      dockerfile: Dockerfile\n",
    "    depends_on:\n",
    "      test-db:\n",
    "        condition: service_healthy\n",
    "    environment:\n",
    "      DJANGO_SETTINGS_MODULE: todobackend.settings.test\n",
    "      TEST_OUTPUT_DIR: /reports\n",
    "      MYSQL_HOST: test-db\n",
    "      MYSQL_USER: root\n",
    "      MYSQL_PASSWORD: password\n",
    "  test-db:\n",
    "    image: mariadb:10.5\n",
    "    healthcheck:\n",
    "      test: mysqlshow -u root -ppassword\n",
    "      interval: 3s\n",
    "      retries: 10\n",
    "    environment:\n",
    "      MYSQL_ROOT_PASSWORD: password"
   ]
  },
  {
   "cell_type": "markdown",
   "metadata": {},
   "source": [
    "Demonstrate `docker cp $(docker-compose ps -q test):/reports/*.xml .`"
   ]
  },
  {
   "cell_type": "markdown",
   "metadata": {},
   "source": [
    "**COMMIT CHANGES**"
   ]
  },
  {
   "cell_type": "markdown",
   "metadata": {},
   "source": [
    "### Creating Release Images"
   ]
  },
  {
   "cell_type": "markdown",
   "metadata": {},
   "source": [
    "Create application release settings in `src/todobackend/settings/release.py`:"
   ]
  },
  {
   "cell_type": "raw",
   "metadata": {},
   "source": [
    "from .base import *\n",
    "import os\n",
    "\n",
    "# Debug\n",
    "if os.environ.get('DEBUG', 'false').lower() in ['true', 'yes', '1']:\n",
    "    DEBUG = True\n",
    "else:\n",
    "    DEBUG = False\n",
    "\n",
    "# Must be explicitly specified when Debug is disabled\n",
    "ALLOWED_HOSTS = os.environ.get('ALLOWED_HOSTS', '*').split(',')\n",
    "\n",
    "# Set secret key\n",
    "SECRET_KEY = os.environ.get('SECRET_KEY', SECRET_KEY)\n",
    "\n",
    "# Database settings\n",
    "DATABASES = {\n",
    "    'default': {\n",
    "        'ENGINE': 'django.db.backends.mysql',\n",
    "        'NAME': os.environ.get('MYSQL_DATABASE','todobackend'),\n",
    "        'USER': os.environ.get('MYSQL_USER','todo'),\n",
    "        'PASSWORD': os.environ.get('MYSQL_PASSWORD','password'),\n",
    "        'HOST': os.environ.get('MYSQL_HOST','localhost'),\n",
    "        'PORT': os.environ.get('MYSQL_PORT','3306'),\n",
    "    }\n",
    "}\n",
    "\n",
    "# Static content settings\n",
    "STATIC_ROOT = os.environ.get('STATIC_ROOT', '/public/static')\n",
    "MEDIA_ROOT = os.environ.get('MEDIA_ROOT', '/public/media')"
   ]
  },
  {
   "cell_type": "markdown",
   "metadata": {},
   "source": [
    "Add uwsgi to dependencies"
   ]
  },
  {
   "cell_type": "raw",
   "metadata": {},
   "source": [
    "pipenv install uwsgi"
   ]
  },
  {
   "cell_type": "markdown",
   "metadata": {},
   "source": [
    "Build production virtual environment in Docker image"
   ]
  },
  {
   "cell_type": "raw",
   "metadata": {},
   "source": [
    "# syntax = docker/dockerfile:experimental\n",
    "FROM alpine:3.10\n",
    "LABEL application=todobackend\n",
    "\n",
    "# Language settings\n",
    "ENV LANG=C.UTF-8\n",
    "ENV LC_ALL=C.UTF-8\n",
    "\n",
    "# Install build dependencies\n",
    "RUN apk add --no-cache gcc python3-dev musl-dev linux-headers mariadb-dev rsync\n",
    "RUN --mount=type=cache,target=/root/.cache \\\n",
    "    pip3 install pipenv\n",
    "\n",
    "# Create skeleton virtual environment\n",
    "WORKDIR /app\n",
    "RUN pipenv install\n",
    "\n",
    "# Copy Pipfiles\n",
    "COPY Pipfile* /app/\n",
    "\n",
    "# Build and install application dependencies\n",
    "RUN --mount=type=cache,target=/root/.cache \\\n",
    "    --mount=type=cache,target=/root/.local/share/virtualenvs \\\n",
    "    --mount=type=cache,target=/build \\\n",
    "    pipenv install --dev --deploy && \\\n",
    "    pipenv clean && \\\n",
    "    rsync -avh --delete $(pipenv --venv)/ /build/\n",
    "\n",
    "# Copy virtual environment from temporary build cache\n",
    "RUN --mount=type=cache,target=/build \\\n",
    "    rsync -avh --delete /build/ $(pipenv --venv)/ \n",
    "\n",
    "# Build production virtual environment\n",
    "RUN --mount=type=cache,target=/root/.cache \\\n",
    "    --mount=type=cache,target=/app/venv \\\n",
    "    --mount=type=cache,target=/build \\\n",
    "    virtualenv /app/venv && \\\n",
    "    VIRTUAL_ENV=/app/venv pipenv install --deploy && \\\n",
    "    VIRTUAL_ENV=/app/venv pipenv clean && \\\n",
    "    rsync -avh --delete /app/venv/ /build/\n",
    "\n",
    "# Copy production virtual environment from temporary build cache\n",
    "RUN --mount=type=cache,target=/build \\\n",
    "    rsync -avh --delete /build/ /app/venv/\n",
    "\n",
    "# Test reports\n",
    "VOLUME /reports\n",
    "\n",
    "# Run commands in virtual environment\n",
    "ENTRYPOINT [\"pipenv\", \"run\"]\n",
    "\n",
    "# Run test commands by default\n",
    "WORKDIR /app/src\n",
    "CMD [\"python\", \"manage.py\", \"test\", \"--noinput\"]\n",
    "\n",
    "# Copy application source\n",
    "COPY tests /app/tests\n",
    "COPY src /app/src"
   ]
  },
  {
   "cell_type": "markdown",
   "metadata": {},
   "source": [
    "Run image and compare dev and production virtual environments:"
   ]
  },
  {
   "cell_type": "raw",
   "metadata": {},
   "source": [
    "docker run -it --rm --entrypoint sh todobackend \n",
    "ls -l $(pipenv --venv)/python3.7/site-packages/\n",
    "ls -l /app/venv/lib/python3.7/site-packages/"
   ]
  },
  {
   "cell_type": "markdown",
   "metadata": {},
   "source": [
    "Add multistage build to `Dockerfile` and `docker-compose.yaml`:"
   ]
  },
  {
   "cell_type": "raw",
   "metadata": {},
   "source": [
    "# syntax = docker/dockerfile:experimental\n",
    "########################\n",
    "####   TEST STAGE   ####\n",
    "########################\n",
    "FROM alpine:3.10 as test\n",
    "LABEL application=todobackend\n",
    "\n",
    "# Language settings\n",
    "ENV LANG=C.UTF-8\n",
    "ENV LC_ALL=C.UTF-8\n",
    "\n",
    "# Install build dependencies\n",
    "RUN apk add --no-cache gcc python3-dev musl-dev linux-headers mariadb-dev rsync\n",
    "RUN --mount=type=cache,target=/root/.cache \\\n",
    "    pip3 install pipenv\n",
    "\n",
    "# Create skeleton virtual environment\n",
    "WORKDIR /app\n",
    "RUN pipenv install\n",
    "\n",
    "# Copy Pipfiles\n",
    "COPY Pipfile* /app/\n",
    "\n",
    "# Build and install application dependencies\n",
    "RUN --mount=type=cache,target=/root/.cache \\\n",
    "    --mount=type=cache,target=/root/.local/share/virtualenvs \\\n",
    "    --mount=type=cache,target=/build \\\n",
    "    pipenv install --dev --deploy && \\\n",
    "    pipenv clean && \\\n",
    "    rsync -avh --delete $(pipenv --venv)/ /build/\n",
    "\n",
    "# Copy virtual environment from temporary build cache\n",
    "RUN --mount=type=cache,target=/build \\\n",
    "    rsync -avh --delete /build/ $(pipenv --venv)/ \n",
    "\n",
    "# Build production virtual environment\n",
    "RUN --mount=type=cache,target=/root/.cache \\\n",
    "    --mount=type=cache,target=/app/venv \\\n",
    "    --mount=type=cache,target=/build \\\n",
    "    virtualenv /app/venv && \\\n",
    "    VIRTUAL_ENV=/app/venv pipenv install --deploy && \\\n",
    "    VIRTUAL_ENV=/app/venv pipenv clean && \\\n",
    "    rsync -avh --delete /app/venv/ /build/\n",
    "\n",
    "# Copy production virtual environment from temporary build cache\n",
    "RUN --mount=type=cache,target=/build \\\n",
    "    rsync -avh --delete /build/ /app/venv/\n",
    "\n",
    "# Test reports\n",
    "VOLUME /reports\n",
    "\n",
    "# Run commands in virtual environment\n",
    "ENTRYPOINT [\"pipenv\", \"run\"]\n",
    "\n",
    "# Run test commands by default\n",
    "WORKDIR /app/src\n",
    "CMD [\"python\", \"manage.py\", \"test\", \"--noinput\"]\n",
    "\n",
    "# Copy application source\n",
    "COPY tests /app/tests\n",
    "COPY src /app/src\n",
    "\n",
    "###########################\n",
    "####   RELEASE STAGE   ####\n",
    "###########################\n",
    "FROM alpine:3.10 as release\n",
    "LABEL application=todobackend\n",
    "\n",
    "# Language settings\n",
    "ENV LANG=C.UTF-8\n",
    "ENV LC_ALL=C.UTF-8\n",
    "\n",
    "# Install operating system dependencies\n",
    "RUN apk add --no-cache python3 mariadb-connector-c\n",
    "\n",
    "# Create application user\n",
    "RUN addgroup -g 1000 app && \\\n",
    "    adduser -u 1000 -G app -D app\n",
    "\n",
    "# Copy application files\n",
    "COPY --from=test --chown=app:app /app /app\n",
    "\n",
    "# Set virtual environment path, working directory and application user\n",
    "ENV PATH=\"/app/venv/bin:$PATH\"\n",
    "WORKDIR /app/src\n",
    "USER app"
   ]
  },
  {
   "cell_type": "markdown",
   "metadata": {},
   "source": [
    "Add release environment to `docker-compose.yml`:"
   ]
  },
  {
   "cell_type": "raw",
   "metadata": {},
   "source": [
    "version: '2.4'\n",
    "\n",
    "services:\n",
    "  # Test services\n",
    "  test:\n",
    "    build:\n",
    "      context: .\n",
    "      dockerfile: Dockerfile\n",
    "      target: test\n",
    "    depends_on:\n",
    "      test-db:\n",
    "        condition: service_healthy\n",
    "    environment:\n",
    "      DJANGO_SETTINGS_MODULE: todobackend.settings.test\n",
    "      TEST_OUTPUT_DIR: /reports\n",
    "      MYSQL_HOST: test-db\n",
    "      MYSQL_USER: root\n",
    "      MYSQL_PASSWORD: password\n",
    "  test-db:\n",
    "    image: mariadb:10.5\n",
    "    healthcheck:\n",
    "      test: mysqlshow -u root -ppassword\n",
    "      interval: 3s\n",
    "      retries: 10\n",
    "    environment:\n",
    "      MYSQL_ROOT_PASSWORD: password\n",
    "  # Release services\n",
    "  app:\n",
    "    build:\n",
    "      context: .\n",
    "      dockerfile: Dockerfile\n",
    "      target: release\n",
    "    depends_on:\n",
    "      db:\n",
    "        condition: service_healthy\n",
    "    environment:\n",
    "      DEBUG: 'true'\n",
    "      DJANGO_SETTINGS_MODULE: todobackend.settings.release\n",
    "      MYSQL_HOST: db\n",
    "      MYSQL_USER: todo\n",
    "      MYSQL_PASSWORD: password\n",
    "    ports:\n",
    "      - 8000:8000\n",
    "    command:\n",
    "      - uwsgi\n",
    "      - --http=0.0.0.0:8000\n",
    "      - --module=todobackend.wsgi\n",
    "      - --master\n",
    "      - --check-static=/public\n",
    "      - --die-on-term\n",
    "      - --processes=4\n",
    "      - --threads=10\n",
    "  db:\n",
    "    image: mariadb:10.5\n",
    "    healthcheck:\n",
    "      test: mysqlshow -u $$MYSQL_USER -p$$MYSQL_PASSWORD\n",
    "      interval: 3s\n",
    "      retries: 10\n",
    "    environment:\n",
    "      MYSQL_DATABASE: todobackend\n",
    "      MYSQL_USER: todo\n",
    "      MYSQL_PASSWORD: password\n",
    "      MYSQL_ROOT_PASSWORD: password"
   ]
  },
  {
   "cell_type": "markdown",
   "metadata": {},
   "source": [
    "Run `docker-compose up app` and connect to localhost:8000 - note lack of static content and DB migrations"
   ]
  },
  {
   "cell_type": "markdown",
   "metadata": {},
   "source": [
    "Add migration service to `docker-compose.yml`:"
   ]
  },
  {
   "cell_type": "raw",
   "metadata": {},
   "source": [
    "version: '2.4'\n",
    "\n",
    "services:\n",
    "  # Test services\n",
    "  test:\n",
    "    build:\n",
    "      context: .\n",
    "      dockerfile: Dockerfile\n",
    "      target: test\n",
    "    depends_on:\n",
    "      test-db:\n",
    "        condition: service_healthy\n",
    "    environment:\n",
    "      DJANGO_SETTINGS_MODULE: todobackend.settings.test\n",
    "      TEST_OUTPUT_DIR: /reports\n",
    "      MYSQL_HOST: test-db\n",
    "      MYSQL_USER: root\n",
    "      MYSQL_PASSWORD: password\n",
    "  test-db:\n",
    "    image: mariadb:10.5\n",
    "    healthcheck:\n",
    "      test: mysqlshow -u root -ppassword\n",
    "      interval: 3s\n",
    "      retries: 10\n",
    "    environment:\n",
    "      MYSQL_ROOT_PASSWORD: password\n",
    "  # Release services\n",
    "  release:\n",
    "    build:\n",
    "      context: .\n",
    "      dockerfile: Dockerfile\n",
    "      target: release\n",
    "    environment:\n",
    "      DEBUG: 'true'\n",
    "      DJANGO_SETTINGS_MODULE: todobackend.settings.release\n",
    "      MYSQL_HOST: db\n",
    "      MYSQL_USER: todo\n",
    "      MYSQL_PASSWORD: password\n",
    "  app:\n",
    "    extends:\n",
    "      service: release\n",
    "    depends_on:\n",
    "      db:\n",
    "        condition: service_healthy\n",
    "    ports:\n",
    "      - 8000:8000\n",
    "    command:\n",
    "      - uwsgi\n",
    "      - --http=0.0.0.0:8000\n",
    "      - --module=todobackend.wsgi\n",
    "      - --master\n",
    "      - --check-static=/public\n",
    "      - --die-on-term\n",
    "      - --processes=4\n",
    "      - --threads=10\n",
    "  migrate:\n",
    "    extends:\n",
    "      service: release\n",
    "    depends_on:\n",
    "      db:\n",
    "        condition: service_healthy\n",
    "    command:\n",
    "      - python\n",
    "      - manage.py\n",
    "      - migrate\n",
    "      - --no-input\n",
    "  db:\n",
    "    image: mariadb:10.5\n",
    "    healthcheck:\n",
    "      test: mysqlshow -u $$MYSQL_USER -p$$MYSQL_PASSWORD\n",
    "      interval: 3s\n",
    "      retries: 10\n",
    "    environment:\n",
    "      MYSQL_DATABASE: todobackend\n",
    "      MYSQL_USER: todo\n",
    "      MYSQL_PASSWORD: password\n",
    "      MYSQL_ROOT_PASSWORD: password"
   ]
  },
  {
   "cell_type": "markdown",
   "metadata": {},
   "source": [
    "Run `docker-compose up migrate` - demonstrate effect of migration failure and lack of exit code, demonstrate use of `--abort-on-container-exit` flag"
   ]
  },
  {
   "cell_type": "markdown",
   "metadata": {},
   "source": [
    "Add local volume for static content:"
   ]
  },
  {
   "cell_type": "raw",
   "metadata": {},
   "source": [
    "version: '2.4'\n",
    "\n",
    "volumes:\n",
    "  public:\n",
    "    driver: local\n",
    "\n",
    "services:\n",
    "  # Test services\n",
    "  test:\n",
    "    build:\n",
    "      context: .\n",
    "      dockerfile: Dockerfile\n",
    "      target: test\n",
    "    depends_on:\n",
    "      test-db:\n",
    "        condition: service_healthy\n",
    "    environment:\n",
    "      DJANGO_SETTINGS_MODULE: todobackend.settings.test\n",
    "      TEST_OUTPUT_DIR: /reports\n",
    "      MYSQL_HOST: test-db\n",
    "      MYSQL_USER: root\n",
    "      MYSQL_PASSWORD: password\n",
    "  test-db:\n",
    "    image: mariadb:10.5\n",
    "    healthcheck:\n",
    "      test: mysqlshow -u root -ppassword\n",
    "      interval: 3s\n",
    "      retries: 10\n",
    "    environment:\n",
    "      MYSQL_ROOT_PASSWORD: password\n",
    "  # Release services\n",
    "  release:\n",
    "    build:\n",
    "      context: .\n",
    "      dockerfile: Dockerfile\n",
    "      target: release\n",
    "    environment:\n",
    "      DEBUG: 'true'\n",
    "      DJANGO_SETTINGS_MODULE: todobackend.settings.release\n",
    "      MYSQL_HOST: db\n",
    "      MYSQL_USER: todo\n",
    "      MYSQL_PASSWORD: password\n",
    "  app:\n",
    "    extends:\n",
    "      service: release\n",
    "    depends_on:\n",
    "      db:\n",
    "        condition: service_healthy\n",
    "    volumes:\n",
    "      - public:/public\n",
    "    ports:\n",
    "      - 8000:8000\n",
    "    command:\n",
    "      - uwsgi\n",
    "      - --http=0.0.0.0:8000\n",
    "      - --module=todobackend.wsgi\n",
    "      - --master\n",
    "      - --check-static=/public\n",
    "      - --die-on-term\n",
    "      - --processes=4\n",
    "      - --threads=10\n",
    "  migrate:\n",
    "    extends:\n",
    "      service: release\n",
    "    depends_on:\n",
    "      db:\n",
    "        condition: service_healthy\n",
    "    command:\n",
    "      - python\n",
    "      - manage.py\n",
    "      - migrate\n",
    "      - --no-input\n",
    "  db:\n",
    "    image: mariadb:10.5\n",
    "    healthcheck:\n",
    "      test: mysqlshow -u $$MYSQL_USER -p$$MYSQL_PASSWORD\n",
    "      interval: 3s\n",
    "      retries: 10\n",
    "    environment:\n",
    "      MYSQL_DATABASE: todobackend\n",
    "      MYSQL_USER: todo\n",
    "      MYSQL_PASSWORD: password\n",
    "      MYSQL_ROOT_PASSWORD: password"
   ]
  },
  {
   "cell_type": "raw",
   "metadata": {},
   "source": [
    "# syntax = docker/dockerfile:experimental\n",
    "########################\n",
    "####   TEST STAGE   ####\n",
    "########################\n",
    "FROM alpine:3.10 as test\n",
    "LABEL application=todobackend\n",
    "\n",
    "# Language settings\n",
    "ENV LANG=C.UTF-8\n",
    "ENV LC_ALL=C.UTF-8\n",
    "\n",
    "# Install build dependencies\n",
    "RUN apk add --no-cache gcc python3-dev musl-dev linux-headers mariadb-dev rsync\n",
    "RUN --mount=type=cache,target=/root/.cache \\\n",
    "    pip3 install pipenv\n",
    "\n",
    "# Create skeleton virtual environment\n",
    "WORKDIR /app\n",
    "RUN pipenv install\n",
    "\n",
    "# Copy Pipfiles\n",
    "COPY Pipfile* /app/\n",
    "\n",
    "# Build and install application dependencies\n",
    "RUN --mount=type=cache,target=/root/.cache \\\n",
    "    --mount=type=cache,target=/root/.local/share/virtualenvs \\\n",
    "    --mount=type=cache,target=/build \\\n",
    "    pipenv install --dev --deploy && \\\n",
    "    pipenv clean && \\\n",
    "    rsync -avh --delete $(pipenv --venv)/ /build/\n",
    "\n",
    "# Copy virtual environment from temporary build cache\n",
    "RUN --mount=type=cache,target=/build \\\n",
    "    rsync -avh --delete /build/ $(pipenv --venv)/ \n",
    "\n",
    "# Build production virtual environment\n",
    "RUN --mount=type=cache,target=/root/.cache \\\n",
    "    --mount=type=cache,target=/app/venv \\\n",
    "    --mount=type=cache,target=/build \\\n",
    "    virtualenv /app/venv && \\\n",
    "    VIRTUAL_ENV=/app/venv pipenv install --deploy && \\\n",
    "    VIRTUAL_ENV=/app/venv pipenv clean && \\\n",
    "    rsync -avh --delete /app/venv/ /build/\n",
    "\n",
    "# Copy production virtual environment from temporary build cache\n",
    "RUN --mount=type=cache,target=/build \\\n",
    "    rsync -avh --delete /build/ /app/venv/\n",
    "\n",
    "# Test reports\n",
    "VOLUME /reports\n",
    "\n",
    "# Run commands in virtual environment\n",
    "ENTRYPOINT [\"pipenv\", \"run\"]\n",
    "\n",
    "# Run test commands by default\n",
    "WORKDIR /app/src\n",
    "CMD [\"python\", \"manage.py\", \"test\", \"--noinput\"]\n",
    "\n",
    "# Copy application source\n",
    "COPY tests /app/tests\n",
    "COPY src /app/src\n",
    "\n",
    "###########################\n",
    "####   RELEASE STAGE   ####\n",
    "###########################\n",
    "FROM alpine:3.10 as release\n",
    "LABEL application=todobackend\n",
    "\n",
    "# Language settings\n",
    "ENV LANG=C.UTF-8\n",
    "ENV LC_ALL=C.UTF-8\n",
    "\n",
    "# Install operating system dependencies\n",
    "RUN apk add --no-cache python3 mariadb-connector-c curl\n",
    "\n",
    "# Create application user\n",
    "RUN addgroup -g 1000 app && \\\n",
    "    adduser -u 1000 -G app -D app\n",
    "\n",
    "# Copy application files\n",
    "COPY --from=test --chown=app:app /app /app\n",
    "\n",
    "# Create public volume\n",
    "RUN mkdir /public\n",
    "RUN chown app:app /public\n",
    "VOLUME /public\n",
    "\n",
    "# Set virtual environment path, working directory and application user\n",
    "ENV VIRTUAL_ENV=/app/venv\n",
    "ENV PATH=\"/app/venv/bin:$PATH\"\n",
    "WORKDIR /app/src\n",
    "USER app"
   ]
  },
  {
   "cell_type": "markdown",
   "metadata": {},
   "source": [
    "Tear down environment and then run:\n",
    "\n",
    "\n",
    "- `docker-compose build`\n",
    "- `docker-compose up --abort-on-container-exit migrate`\n",
    "- `docker-compose run app python manage.py collectstatic --no-input`\n",
    "- `docker-compose up app`\n",
    "\n",
    "Application should work OK now"
   ]
  },
  {
   "cell_type": "markdown",
   "metadata": {},
   "source": [
    "Add acceptance tests"
   ]
  },
  {
   "cell_type": "raw",
   "metadata": {},
   "source": [
    "version: '2.4'\n",
    "\n",
    "volumes:\n",
    "  public:\n",
    "    driver: local\n",
    "\n",
    "services:\n",
    "  # Test services\n",
    "  test:\n",
    "    build:\n",
    "      context: .\n",
    "      dockerfile: Dockerfile\n",
    "      target: test\n",
    "    depends_on:\n",
    "      test-db:\n",
    "        condition: service_healthy\n",
    "    environment:\n",
    "      DJANGO_SETTINGS_MODULE: todobackend.settings.test\n",
    "      TEST_OUTPUT_DIR: /reports\n",
    "      MYSQL_HOST: test-db\n",
    "      MYSQL_USER: root\n",
    "      MYSQL_PASSWORD: password\n",
    "  test-db:\n",
    "    image: mariadb:10.5\n",
    "    healthcheck:\n",
    "      test: mysqlshow -u root -ppassword\n",
    "      interval: 3s\n",
    "      retries: 10\n",
    "    environment:\n",
    "      MYSQL_ROOT_PASSWORD: password\n",
    "  # Release services\n",
    "  release:\n",
    "    build:\n",
    "      context: .\n",
    "      dockerfile: Dockerfile\n",
    "      target: release\n",
    "    environment:\n",
    "      DEBUG: 'true'\n",
    "      DJANGO_SETTINGS_MODULE: todobackend.settings.release\n",
    "      MYSQL_HOST: db\n",
    "      MYSQL_USER: todo\n",
    "      MYSQL_PASSWORD: password\n",
    "  app:\n",
    "    extends:\n",
    "      service: release\n",
    "    depends_on:\n",
    "      db:\n",
    "        condition: service_healthy\n",
    "    healthcheck:\n",
    "      test: curl -fs localhost:8000\n",
    "      interval: 3s\n",
    "      retries: 10\n",
    "    volumes:\n",
    "      - public:/public\n",
    "    ports:\n",
    "      - 8000:8000\n",
    "    command:\n",
    "      - uwsgi\n",
    "      - --http=0.0.0.0:8000\n",
    "      - --module=todobackend.wsgi\n",
    "      - --master\n",
    "      - --check-static=/public\n",
    "      - --die-on-term\n",
    "      - --processes=4\n",
    "      - --threads=10\n",
    "  acceptance:\n",
    "    extends:\n",
    "      service: release\n",
    "    depends_on:\n",
    "      app:\n",
    "        condition: service_healthy\n",
    "    environment:\n",
    "      TEST_URL: http://app:8000/todos\n",
    "    working_dir: /app\n",
    "    command:\n",
    "      - pytest\n",
    "      - tests/acceptance\n",
    "      - -v\n",
    "  migrate:\n",
    "    extends:\n",
    "      service: release\n",
    "    depends_on:\n",
    "      db:\n",
    "        condition: service_healthy\n",
    "    command:\n",
    "      - python\n",
    "      - manage.py\n",
    "      - migrate\n",
    "      - --no-input\n",
    "  db:\n",
    "    image: mariadb:10.5\n",
    "    healthcheck:\n",
    "      test: mysqlshow -u $$MYSQL_USER -p$$MYSQL_PASSWORD\n",
    "      interval: 3s\n",
    "      retries: 10\n",
    "    environment:\n",
    "      MYSQL_DATABASE: todobackend\n",
    "      MYSQL_USER: todo\n",
    "      MYSQL_PASSWORD: password\n",
    "      MYSQL_ROOT_PASSWORD: password"
   ]
  },
  {
   "cell_type": "markdown",
   "metadata": {},
   "source": [
    "Tear down environment and then run:\n",
    "\n",
    "\n",
    "- `docker-compose build`\n",
    "- `docker-compose up --abort-on-container-exit migrate`\n",
    "- `docker-compose run app python manage.py collectstatic --no-input`\n",
    "- `docker-compose up --abort-on-container-exit acceptance`\n",
    "\n",
    "Application should work OK now"
   ]
  },
  {
   "cell_type": "markdown",
   "metadata": {},
   "source": [
    "**COMMIT CHANGES**"
   ]
  }
 ],
 "metadata": {
  "kernelspec": {
   "display_name": "todobackend",
   "language": "python",
   "name": "todobackend"
  },
  "language_info": {
   "codemirror_mode": {
    "name": "ipython",
    "version": 3
   },
   "file_extension": ".py",
   "mimetype": "text/x-python",
   "name": "python",
   "nbconvert_exporter": "python",
   "pygments_lexer": "ipython3",
   "version": "3.7.7"
  }
 },
 "nbformat": 4,
 "nbformat_minor": 4
}
