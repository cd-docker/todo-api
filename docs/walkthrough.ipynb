{
 "cells": [
  {
   "cell_type": "markdown",
   "metadata": {},
   "source": [
    "# Todobackend Walkthrough"
   ]
  },
  {
   "cell_type": "markdown",
   "metadata": {},
   "source": [
    "### Visual Studio Code"
   ]
  },
  {
   "cell_type": "markdown",
   "metadata": {},
   "source": [
    "Set `python.terminal.activateEnvironment` setting to false"
   ]
  },
  {
   "cell_type": "markdown",
   "metadata": {},
   "source": [
    "### Create Django Project"
   ]
  },
  {
   "cell_type": "raw",
   "metadata": {},
   "source": [
    "pip install django~=2.0 --user\n",
    "django-admin startproject todobackend\n",
    "cd todobackend\n",
    "mkdir src\n",
    "mv todobackend manage.py src"
   ]
  },
  {
   "cell_type": "markdown",
   "metadata": {},
   "source": [
    "### Git Setup"
   ]
  },
  {
   "cell_type": "markdown",
   "metadata": {},
   "source": [
    "Create git repository:"
   ]
  },
  {
   "cell_type": "raw",
   "metadata": {},
   "source": [
    "git init"
   ]
  },
  {
   "cell_type": "markdown",
   "metadata": {},
   "source": [
    "Create `.gitignore` File:"
   ]
  },
  {
   "cell_type": "raw",
   "metadata": {},
   "source": [
    "curl -fs -o .gitignore https://www.gitignore.io/api/osx,linux,python,windows,pycharm,visualstudiocode"
   ]
  },
  {
   "cell_type": "markdown",
   "metadata": {},
   "source": [
    "Add the following to `.gitignore`:"
   ]
  },
  {
   "cell_type": "raw",
   "metadata": {},
   "source": [
    "# Ignore dotenv files\n",
    ".env\n",
    "\n",
    "# Ignore SQLite database files\n",
    "*.sqlite3\n",
    "\n",
    "# Ignore jupyter notebook checkpoints\n",
    ".ipynb_checkpoints\n",
    "...\n",
    "..."
   ]
  },
  {
   "cell_type": "markdown",
   "metadata": {},
   "source": [
    "Comment .vscode settings in  `.gitignore`:"
   ]
  },
  {
   "cell_type": "raw",
   "metadata": {},
   "source": [
    "...\n",
    "...\n",
    "### VisualStudioCode ###\n",
    ".vscode/*\n",
    "# !.vscode/settings.json\n",
    "# !.vscode/tasks.json\n",
    "# !.vscode/launch.json\n",
    "# !.vscode/extensions.json\n",
    "...\n",
    "..."
   ]
  },
  {
   "cell_type": "markdown",
   "metadata": {},
   "source": [
    "### Install Django REST"
   ]
  },
  {
   "cell_type": "markdown",
   "metadata": {},
   "source": [
    "Install Django components.  Virtual environment will be automatically created by `pipenv`"
   ]
  },
  {
   "cell_type": "raw",
   "metadata": {},
   "source": [
    "# Django 3.x is not currently compatible with mysql-connector-python - check in future\n",
    "pipenv install django~=2.0\n",
    "pipenv install djangorestframework~=3.0\n",
    "pipenv install django-cors-headers~=3.0"
   ]
  },
  {
   "cell_type": "markdown",
   "metadata": {},
   "source": [
    "Activate pipenv shell:"
   ]
  },
  {
   "cell_type": "raw",
   "metadata": {},
   "source": [
    "pipenv shell"
   ]
  },
  {
   "cell_type": "markdown",
   "metadata": {},
   "source": [
    "### Create Django Application"
   ]
  },
  {
   "cell_type": "markdown",
   "metadata": {},
   "source": [
    "Create application called todo:"
   ]
  },
  {
   "cell_type": "raw",
   "metadata": {},
   "source": [
    "cd src\n",
    "python manage.py startapp todo"
   ]
  },
  {
   "cell_type": "markdown",
   "metadata": {},
   "source": [
    "Update installed apps in `src/todobackend/settings.py`:"
   ]
  },
  {
   "cell_type": "code",
   "execution_count": null,
   "metadata": {},
   "outputs": [],
   "source": [
    "INSTALLED_APPS = (\n",
    "     ...\n",
    "     'rest_framework',\n",
    "     'corsheaders',\n",
    "     'todo'\n",
    ")\n",
    "\n",
    "# cars middleware must be before CommonMiddleware\n",
    "MIDDLEWARE = (\n",
    "    ...\n",
    "    'corsheaders.middleware.CorsMiddleware',\n",
    "    'django.middleware.common.CommonMiddleware',\n",
    "     ...\n",
    ")\n",
    "\n",
    "# CORS Settings\n",
    "\n",
    "CORS_ORIGIN_ALLOW_ALL = True"
   ]
  },
  {
   "cell_type": "markdown",
   "metadata": {},
   "source": [
    "### Develop Application"
   ]
  },
  {
   "cell_type": "markdown",
   "metadata": {},
   "source": [
    "Create TodoItem model in `src/todo/models.py`:"
   ]
  },
  {
   "cell_type": "code",
   "execution_count": null,
   "metadata": {},
   "outputs": [],
   "source": [
    "from django.db import models\n",
    "\n",
    "# Create your models here.\n",
    "class TodoItem(models.Model):\n",
    "    \"\"\"\n",
    "    TodoItem Model\n",
    "    \"\"\"\n",
    "    title = models.CharField(max_length=256, null=True, blank=True)\n",
    "    completed = models.BooleanField(blank=True, default=False)\n",
    "    url = models.CharField(max_length=256, null=True, blank=True)\n",
    "    order = models.IntegerField(null=True, blank=True)"
   ]
  },
  {
   "cell_type": "markdown",
   "metadata": {},
   "source": [
    "Create and run migrations:"
   ]
  },
  {
   "cell_type": "raw",
   "metadata": {},
   "source": [
    "python manage.py makemigrations todo\n",
    "python manage.py migrate"
   ]
  },
  {
   "cell_type": "markdown",
   "metadata": {},
   "source": [
    "Create Serializer in `src/todo/serializers.py`:"
   ]
  },
  {
   "cell_type": "code",
   "execution_count": null,
   "metadata": {},
   "outputs": [],
   "source": [
    "from rest_framework import serializers\n",
    "\n",
    "from todo.models import TodoItem\n",
    "\n",
    "class TodoItemSerializer(serializers.HyperlinkedModelSerializer):\n",
    "    url = serializers.ReadOnlyField()\n",
    "    class Meta:\n",
    "        model = TodoItem\n",
    "        fields = ('url', 'title', 'completed', 'order')"
   ]
  },
  {
   "cell_type": "markdown",
   "metadata": {},
   "source": [
    "Create Views in `src/todo/views.py`:"
   ]
  },
  {
   "cell_type": "code",
   "execution_count": null,
   "metadata": {},
   "outputs": [],
   "source": [
    "from django.shortcuts import render\n",
    "from rest_framework import status\n",
    "from rest_framework import viewsets\n",
    "from rest_framework.reverse import reverse\n",
    "from rest_framework.response import Response\n",
    "\n",
    "from todo.models import TodoItem\n",
    "from todo.serializers import TodoItemSerializer\n",
    "\n",
    "# Create your views here.\n",
    "class TodoItemViewSet(viewsets.ModelViewSet):\n",
    "    queryset = TodoItem.objects.all()\n",
    "    serializer_class = TodoItemSerializer\n",
    "\n",
    "    def perform_create(self, serializer):\n",
    "        \"\"\"\n",
    "        Creates a todo item\n",
    "        \"\"\"\n",
    "        # Save instance to get primary key and then update URL\n",
    "        instance = serializer.save()\n",
    "        instance.url = reverse('todoitem-detail', args=[instance.pk], request=self.request)\n",
    "        instance.save()\n",
    "\n",
    "    def delete(self, request):\n",
    "        \"\"\"\n",
    "        Deletes all todo items\n",
    "        \"\"\"\n",
    "        TodoItem.objects.all().delete()\n",
    "        return Response(status=status.HTTP_204_NO_CONTENT)"
   ]
  },
  {
   "cell_type": "markdown",
   "metadata": {},
   "source": [
    "Create main routes in `src/todobackend/urls.py`:"
   ]
  },
  {
   "cell_type": "code",
   "execution_count": null,
   "metadata": {},
   "outputs": [],
   "source": [
    "from django.contrib import admin\n",
    "from django.urls import include, path\n",
    "\n",
    "urlpatterns = [\n",
    "    path('admin/', admin.site.urls),\n",
    "    path('', include('todo.urls')),\n",
    "]"
   ]
  },
  {
   "cell_type": "markdown",
   "metadata": {},
   "source": [
    "Create todo routes `src/todo/urls.py`:"
   ]
  },
  {
   "cell_type": "code",
   "execution_count": null,
   "metadata": {},
   "outputs": [],
   "source": [
    "from django.conf.urls import url, include\n",
    "from rest_framework.routers import DefaultRouter\n",
    "\n",
    "from todo import views\n",
    "\n",
    "# Create a router and register our viewsets with it.\n",
    "router = DefaultRouter(trailing_slash=False)\n",
    "router.register(r'todos', views.TodoItemViewSet)\n",
    "\n",
    "# The API URLs are now determined automatically by the router.\n",
    "urlpatterns = [\n",
    "    url('', include(router.urls)),\n",
    "]"
   ]
  },
  {
   "cell_type": "markdown",
   "metadata": {},
   "source": [
    "### Create Tests"
   ]
  },
  {
   "cell_type": "markdown",
   "metadata": {},
   "source": [
    "Create `src/todo/tests.py`:"
   ]
  },
  {
   "cell_type": "code",
   "execution_count": null,
   "metadata": {},
   "outputs": [],
   "source": [
    "from django.test import TestCase\n",
    "from django.urls import reverse\n",
    "from rest_framework import status\n",
    "from rest_framework.test import APITestCase\n",
    "from todo.models import TodoItem\n",
    "\n",
    "\n",
    "def createItem(client):\n",
    "    url = reverse('todoitem-list')\n",
    "    data = {'title': 'Walk the dog'}\n",
    "    return client.post(url, data, format='json')\n",
    "\n",
    "\n",
    "class TestCreateTodoItem(APITestCase):\n",
    "    \"\"\"\n",
    "    Ensure we can create a new todo item\n",
    "    \"\"\"\n",
    "    def setUp(self):\n",
    "        self.response = createItem(self.client)\n",
    "    \n",
    "    def test_received_201_created_status_code(self):\n",
    "        self.assertEqual(self.response.status_code, status.HTTP_201_CREATED)\n",
    "\n",
    "    def test_received_location_header_hyperlink(self):\n",
    "        self.assertRegexpMatches(self.response['Location'], '^http://.+/todos/[\\d]+$')\n",
    "\n",
    "    def test_item_was_created(self):\n",
    "        self.assertEqual(TodoItem.objects.count(), 1)\n",
    "\n",
    "    def test_item_has_correct_title(self):\n",
    "        self.assertEqual(TodoItem.objects.get().title, 'Walk the dog')\n",
    "\n",
    "\n",
    "class TestUpdateTodoItem(APITestCase):\n",
    "    \"\"\"\n",
    "    Ensure we can update an existing todo item using PUT\n",
    "    \"\"\"\n",
    "    def setUp(self):\n",
    "        response = createItem(self.client)\n",
    "        self.assertEqual(TodoItem.objects.get().completed, False)\n",
    "        url = response['Location']\n",
    "        data = {'title': 'Walk the dog', 'completed': True}\n",
    "        self.response = self.client.put(url, data, format='json')\n",
    "\n",
    "    def test_received_200_created_status_code(self):\n",
    "        self.assertEqual(self.response.status_code, status.HTTP_200_OK)\n",
    "\n",
    "    def test_item_was_updated(self):\n",
    "        self.assertEqual(TodoItem.objects.get().completed, True)\n",
    "\n",
    "\n",
    "class TestPatchTodoItem(APITestCase):\n",
    "    \"\"\"\n",
    "    Ensure we can update an existing todo item using PATCH\n",
    "    \"\"\"\n",
    "    def setUp(self):\n",
    "        response = createItem(self.client)\n",
    "        self.assertEqual(TodoItem.objects.get().completed, False)\n",
    "        url = response['Location']\n",
    "        data = {'title': 'Walk the dog', 'completed': True}\n",
    "        self.response = self.client.patch(url, data, format='json')\n",
    "    \n",
    "    def test_received_200_ok_status_code(self):\n",
    "        self.assertEqual(self.response.status_code, status.HTTP_200_OK)\n",
    "    \n",
    "    def test_item_was_updated(self):\n",
    "        self.assertEqual(TodoItem.objects.get().completed, True)\n",
    "\n",
    "\n",
    "class TestDeleteTodoItem(APITestCase):\n",
    "    \"\"\"\n",
    "    Ensure we can delete a todo item\n",
    "    \"\"\"\n",
    "    def setUp(self):\n",
    "        response = createItem(self.client)\n",
    "        self.assertEqual(TodoItem.objects.count(), 1)\n",
    "        url = response['Location']\n",
    "        self.response = self.client.delete(url)\n",
    "\n",
    "    def test_received_204_no_content_status_code(self):\n",
    "        self.assertEqual(self.response.status_code, status.HTTP_204_NO_CONTENT)\n",
    "\n",
    "    def test_the_item_was_deleted(self):\n",
    "        self.assertEqual(TodoItem.objects.count(), 0)\n",
    "\n",
    "\n",
    "class TestDeleteAllItems(APITestCase):\n",
    "    \"\"\"\n",
    "    Ensure we can delete all todo items\n",
    "    \"\"\"\n",
    "    def setUp(self):\n",
    "        createItem(self.client)\n",
    "        createItem(self.client)\n",
    "        self.assertEqual(TodoItem.objects.count(), 2)\n",
    "        self.response = self.client.delete(reverse('todoitem-list'))\n",
    "\n",
    "    def test_received_204_no_content_status_code(self):\n",
    "        self.assertEqual(self.response.status_code, status.HTTP_204_NO_CONTENT)\n",
    "\n",
    "    def test_all_items_were_deleted(self):\n",
    "        self.assertEqual(TodoItem.objects.count(), 0)"
   ]
  },
  {
   "cell_type": "markdown",
   "metadata": {},
   "source": [
    "Run tests:"
   ]
  },
  {
   "cell_type": "raw",
   "metadata": {},
   "source": [
    "% python manage.py test\n",
    "Creating test database for alias 'default'...\n",
    "System check identified no issues (0 silenced).\n",
    "............\n",
    "----------------------------------------------------------------------\n",
    "Ran 12 tests in 0.057s\n",
    "\n",
    "OK\n",
    "Destroying test database for alias 'default'..."
   ]
  },
  {
   "cell_type": "markdown",
   "metadata": {},
   "source": [
    "### Refactor Settings"
   ]
  },
  {
   "cell_type": "markdown",
   "metadata": {},
   "source": [
    "- Create `todobackend/settings` folder\n",
    "- Add `todobackend/settings/__init__.py` blank file\n",
    "- Add `todobackend/settings/base.py`\n",
    "- Copy `todobackend/settings.py` to `todobackend/settings/base.py`"
   ]
  },
  {
   "cell_type": "markdown",
   "metadata": {},
   "source": [
    "Update `manage.py`:"
   ]
  },
  {
   "cell_type": "code",
   "execution_count": null,
   "metadata": {},
   "outputs": [],
   "source": [
    "#!/usr/bin/env python\n",
    "\"\"\"Django's command-line utility for administrative tasks.\"\"\"\n",
    "import os\n",
    "import sys\n",
    "\n",
    "\n",
    "def main():\n",
    "    os.environ.setdefault('DJANGO_SETTINGS_MODULE', 'todobackend.settings.base')\n",
    "    try:\n",
    "        from django.core.management import execute_from_command_line\n",
    "    except ImportError as exc:\n",
    "        raise ImportError(\n",
    "            \"Couldn't import Django. Are you sure it's installed and \"\n",
    "            \"available on your PYTHONPATH environment variable? Did you \"\n",
    "            \"forget to activate a virtual environment?\"\n",
    "        ) from exc\n",
    "    execute_from_command_line(sys.argv)\n",
    "\n",
    "\n",
    "if __name__ == '__main__':\n",
    "    main()\n"
   ]
  },
  {
   "cell_type": "markdown",
   "metadata": {},
   "source": [
    "Update `todobackend/wsgi.py`:"
   ]
  },
  {
   "cell_type": "code",
   "execution_count": null,
   "metadata": {},
   "outputs": [],
   "source": [
    "\"\"\"\n",
    "WSGI config for todobackend project.\n",
    "\n",
    "It exposes the WSGI callable as a module-level variable named ``application``.\n",
    "\n",
    "For more information on this file, see\n",
    "https://docs.djangoproject.com/en/3.0/howto/deployment/wsgi/\n",
    "\"\"\"\n",
    "\n",
    "import os\n",
    "\n",
    "from django.core.wsgi import get_wsgi_application\n",
    "\n",
    "os.environ.setdefault('DJANGO_SETTINGS_MODULE', 'todobackend.settings.base')\n",
    "\n",
    "application = get_wsgi_application()\n"
   ]
  },
  {
   "cell_type": "markdown",
   "metadata": {},
   "source": [
    "Update `todobackend/asgi.py` (only applies for Django 3.x):"
   ]
  },
  {
   "cell_type": "code",
   "execution_count": null,
   "metadata": {},
   "outputs": [],
   "source": [
    "\"\"\"\n",
    "ASGI config for todobackend project.\n",
    "\n",
    "It exposes the ASGI callable as a module-level variable named ``application``.\n",
    "\n",
    "For more information on this file, see\n",
    "https://docs.djangoproject.com/en/3.0/howto/deployment/asgi/\n",
    "\"\"\"\n",
    "\n",
    "import os\n",
    "\n",
    "from django.core.asgi import get_asgi_application\n",
    "\n",
    "os.environ.setdefault('DJANGO_SETTINGS_MODULE', 'todobackend.settings.base')\n",
    "\n",
    "application = get_asgi_application()\n"
   ]
  },
  {
   "cell_type": "markdown",
   "metadata": {},
   "source": [
    "### Install MariaDB"
   ]
  },
  {
   "cell_type": "raw",
   "metadata": {},
   "source": [
    "brew install mariadb\n",
    "mysql.server start\n",
    "sudo mysql_secure_installation\n",
    "...\n",
    "...\n",
    "(use defaults OK - set root password)"
   ]
  },
  {
   "cell_type": "code",
   "execution_count": null,
   "metadata": {},
   "outputs": [],
   "source": [
    "# Fix for mysqlserver.stop not working\n",
    "# See https://stackoverflow.com/questions/59936589/how-can-i-fix-brew-installed-mariadb-that-hangs-on-mysql-server-stop-and-doesn/59938033#59938033\n",
    "cp /usr/local/bin/mysql.server /usr/local/bin/mysql.server.backup\n",
    "sed -i \"\" \"s/user='mysql'/user=\\`whoami\\`/g\" /usr/local/bin/mysql.server"
   ]
  },
  {
   "cell_type": "markdown",
   "metadata": {},
   "source": [
    "Create database and user:"
   ]
  },
  {
   "cell_type": "code",
   "execution_count": null,
   "metadata": {},
   "outputs": [],
   "source": [
    "% mysql -u root -p \n",
    "MariaDB [(none)]> CREATE DATABASE todobackend;\n",
    "MariaDB [(none)]> GRANT ALL PRIVILEGES ON *.* TO 'todo'@'localhost' identified by 'password';\n",
    "MariaDB [(none)]> quit"
   ]
  },
  {
   "cell_type": "markdown",
   "metadata": {},
   "source": [
    "### Install Additional Dependencies"
   ]
  },
  {
   "cell_type": "code",
   "execution_count": null,
   "metadata": {},
   "outputs": [],
   "source": [
    "# Gotcha - remove any misnamed packages from Pipfile, they are not automatically removed\n",
    "pipenv install mysql-connector-python\n",
    "pipenv install django-nose --dev\n",
    "pipenv install pinocchio --dev\n",
    "pipenv install coverage --dev"
   ]
  },
  {
   "cell_type": "markdown",
   "metadata": {},
   "source": [
    "### Add Test Settings"
   ]
  },
  {
   "cell_type": "markdown",
   "metadata": {},
   "source": [
    "Add to `todobackend/settings/test.py`:"
   ]
  },
  {
   "cell_type": "code",
   "execution_count": null,
   "metadata": {},
   "outputs": [],
   "source": [
    "from .base import *\n",
    "import os\n",
    "\n",
    "# Installed Apps\n",
    "INSTALLED_APPS += ('django_nose', )\n",
    "TEST_RUNNER = 'django_nose.NoseTestSuiteRunner'\n",
    "TEST_OUTPUT_DIR = os.environ.get('TEST_OUTPUT_DIR', '.')\n",
    "NOSE_ARGS = [\n",
    "    '--verbosity=2',                                        # verbose output\n",
    "    '--nologcapture',                                       # don't output log capture\n",
    "    '--with-coverage',                                      # activate coverage report\n",
    "    '--cover-package=todo',                                 # coverage reports will apply to these packages\n",
    "    '--with-spec',                                          # spec style tests\n",
    "    '--spec-color',                                         # make them pretty\n",
    "    '--with-xunit',                                         # enable xunit plugin\n",
    "    f'--xunit-file={TEST_OUTPUT_DIR}/nosetests.xml',        # xunit test output\n",
    "    '--cover-xml',                                          # produce XML coverage info\n",
    "    f'--cover-xml-file={TEST_OUTPUT_DIR}/coverage.xml',     # XML coverage output\n",
    "]\n",
    "\n",
    "# Database\n",
    "# https://docs.djangoproject.com/en/1.8/ref/settings/#databases\n",
    "DATABASES = {\n",
    "    'default': {\n",
    "        # Supports AWS X-Ray\n",
    "        'ENGINE': 'mysql.connector.django',\n",
    "        'NAME': os.environ.get('MYSQL_DATABASE','todobackend'),\n",
    "        'USER': os.environ.get('MYSQL_USER','todo'),\n",
    "        'PASSWORD': os.environ.get('MYSQL_PASSWORD','password'),\n",
    "        'HOST': os.environ.get('MYSQL_HOST','localhost'),\n",
    "        'PORT': os.environ.get('MYSQL_PORT','3306'),\n",
    "        # See https://code.djangoproject.com/ticket/30469#comment:5\n",
    "        'OPTIONS': {\n",
    "            'use_pure': True\n",
    "        }\n",
    "    }\n",
    "}"
   ]
  },
  {
   "cell_type": "markdown",
   "metadata": {},
   "source": [
    "Run tests using new settings:"
   ]
  },
  {
   "cell_type": "raw",
   "metadata": {},
   "source": [
    "% python manage.py test --settings=todobackend.settings.test\n",
    "nosetests --verbosity=2 --nologcapture --with-coverage --cover-package=todo --with-spec --spec-color --with-xunit --xunit-file=./unittests.xml --cover-xml --cover-xml-file=./coverage.xml\n",
    "Creating test database for alias 'default'...\n",
    "\n",
    "Ensure we can create a new todo item\n",
    "- item has correct title\n",
    "- item was created\n",
    "- received 201 created status code\n",
    "- received location header hyperlink\n",
    "\n",
    "Ensure we can delete all todo items\n",
    "- all items were deleted\n",
    "- received 204 no content status code\n",
    "\n",
    "Ensure we can delete a todo item\n",
    "- received 204 no content status code\n",
    "- the item was deleted\n",
    "\n",
    "Ensure we can update an existing todo item using PATCH\n",
    "- item was updated\n",
    "- received 200 ok status code\n",
    "\n",
    "Ensure we can update an existing todo item using PUT\n",
    "- item was updated\n",
    "- received 200 created status code\n",
    "\n",
    "----------------------------------------------------------------------\n",
    "XML: /Users/jmenga/Documents/Source/cd-docker/todobackend/src/unittests.xml\n",
    "Name                              Stmts   Miss  Cover\n",
    "-----------------------------------------------------\n",
    "todo/__init__.py                      0      0   100%\n",
    "todo/admin.py                         1      1     0%\n",
    "todo/migrations/0001_initial.py       5      0   100%\n",
    "todo/migrations/__init__.py           0      0   100%\n",
    "todo/models.py                        6      6     0%\n",
    "todo/serializers.py                   7      0   100%\n",
    "todo/urls.py                          6      0   100%\n",
    "todo/views.py                        17      0   100%\n",
    "-----------------------------------------------------\n",
    "TOTAL                                42      7    83%\n",
    "----------------------------------------------------------------------\n",
    "Ran 12 tests in 0.228s\n",
    "\n",
    "OK\n",
    "\n",
    "Destroying test database for alias 'default'..."
   ]
  },
  {
   "cell_type": "markdown",
   "metadata": {},
   "source": [
    "### Acceptance Testing"
   ]
  },
  {
   "cell_type": "markdown",
   "metadata": {},
   "source": [
    "Install `pytest` and `requests`:"
   ]
  },
  {
   "cell_type": "code",
   "execution_count": null,
   "metadata": {},
   "outputs": [],
   "source": [
    "pipenv install pytest requests --dev"
   ]
  },
  {
   "cell_type": "markdown",
   "metadata": {},
   "source": [
    "### Additional Stuff"
   ]
  },
  {
   "cell_type": "markdown",
   "metadata": {},
   "source": [
    "Add the following to `.env` file to import code in ipython and ensure VS Code can resolve code:"
   ]
  },
  {
   "cell_type": "raw",
   "metadata": {},
   "source": [
    "PYTHONPATH=${PWD}/src:${PYTHONPATH}"
   ]
  }
 ],
 "metadata": {
  "kernelspec": {
   "display_name": "todobackend",
   "language": "python",
   "name": "todobackend"
  },
  "language_info": {
   "codemirror_mode": {
    "name": "ipython",
    "version": 3
   },
   "file_extension": ".py",
   "mimetype": "text/x-python",
   "name": "python",
   "nbconvert_exporter": "python",
   "pygments_lexer": "ipython3",
   "version": "3.7.5"
  }
 },
 "nbformat": 4,
 "nbformat_minor": 4
}
