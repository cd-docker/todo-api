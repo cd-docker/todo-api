{
 "cells": [
  {
   "cell_type": "markdown",
   "metadata": {},
   "source": [
    "# AWS Deployment"
   ]
  },
  {
   "cell_type": "markdown",
   "metadata": {},
   "source": [
    "## Notes"
   ]
  },
  {
   "cell_type": "markdown",
   "metadata": {},
   "source": [
    "#### MariaDB Secret\n",
    "\n",
    "The parameter MasterUserPassword is not a valid password. Only printable ASCII characters besides '/', '@', '\"', ' ' may be used. (Service: AmazonRDS; Status Code: 400; Error Code: InvalidParameterValue; Request ID: d133a89d-64bc-4a02-bee9-afe3df3e94df)"
   ]
  },
  {
   "cell_type": "markdown",
   "metadata": {},
   "source": [
    "#### Jenkins GitHub Notify/Utilities Plugins"
   ]
  },
  {
   "cell_type": "markdown",
   "metadata": {},
   "source": [
    "Install the following plugins:\n",
    "\n",
    "- Disable GitHub Multibranch Status\n",
    "- Pipeline GitHub Notify Step Plugin\n",
    "- Pipeline Utilities Plugin\n",
    "\n",
    "After installation, add the **Disable GitHub Notifications** behaviour under branch sources for the project configuration."
   ]
  },
  {
   "cell_type": "markdown",
   "metadata": {},
   "source": [
    "## Todofrontend Jenkins"
   ]
  },
  {
   "cell_type": "markdown",
   "metadata": {},
   "source": [
    "Add pipeline to Jenkins using wizard\n",
    "\n",
    "Configure pipeline as follows:\n",
    "- Add **Filter by name (with wildcards)** with a value of `master PR*`\n",
    "- Add the **Disable GitHub Notifications** behaviour under branch sources for the project configuration."
   ]
  }
 ],
 "metadata": {
  "kernelspec": {
   "display_name": "todobackend",
   "language": "python",
   "name": "todobackend"
  },
  "language_info": {
   "codemirror_mode": {
    "name": "ipython",
    "version": 3
   },
   "file_extension": ".py",
   "mimetype": "text/x-python",
   "name": "python",
   "nbconvert_exporter": "python",
   "pygments_lexer": "ipython3",
   "version": "3.7.7"
  }
 },
 "nbformat": 4,
 "nbformat_minor": 4
}
