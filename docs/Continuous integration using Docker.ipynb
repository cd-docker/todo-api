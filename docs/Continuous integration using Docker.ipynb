{
 "cells": [
  {
   "cell_type": "markdown",
   "metadata": {},
   "source": [
    "# Continuous Integration using Docker"
   ]
  },
  {
   "cell_type": "markdown",
   "metadata": {},
   "source": [
    "### Building a Docker environment"
   ]
  },
  {
   "cell_type": "markdown",
   "metadata": {},
   "source": [
    "Create an empty Dockerfile, review https://pkgs.alpinelinux.org/packages?name=python3 to determine which Alpine version to use for specific Python version."
   ]
  },
  {
   "cell_type": "raw",
   "metadata": {},
   "source": [
    "FROM alpine:3.13\n",
    "LABEL application=todobackend"
   ]
  },
  {
   "cell_type": "markdown",
   "metadata": {},
   "source": [
    "Run local Docker container with project mounted:"
   ]
  },
  {
   "cell_type": "raw",
   "metadata": {},
   "source": [
    "docker run -it --rm -v ${PWD}:/app -p 8000:8000 alpine:3.13"
   ]
  },
  {
   "cell_type": "markdown",
   "metadata": {},
   "source": [
    "Run following commands to attempt initial install:"
   ]
  },
  {
   "cell_type": "raw",
   "metadata": {},
   "source": [
    "cd app\n",
    "apk add --no-cache python3 py3-pip\n",
    "pip install pipenv\n",
    "pipenv install --dev --deploy"
   ]
  },
  {
   "cell_type": "markdown",
   "metadata": {},
   "source": [
    "Following installation error will occur:\n",
    "\n",
    "`/bin/sh: mysql_config: not found`\n",
    "\n",
    "Install `mariadb-dev` and retry:"
   ]
  },
  {
   "cell_type": "raw",
   "metadata": {},
   "source": [
    "apk add --no-cache mariadb-dev\n",
    "pipenv install --dev --deploy"
   ]
  },
  {
   "cell_type": "markdown",
   "metadata": {},
   "source": [
    "Following installation error will occur:\n",
    "\n",
    "`unable to execute 'gcc': No such file or directory`\n",
    "\n",
    "Install `gcc` and retry:"
   ]
  },
  {
   "cell_type": "raw",
   "metadata": {},
   "source": [
    "apk add --no-cache gcc\n",
    "pipenv install --dev --deploy"
   ]
  },
  {
   "cell_type": "markdown",
   "metadata": {},
   "source": [
    "Following installation error will occur:\n",
    "\n",
    "`/usr/include/mysql/mysql.h:38:10: fatal error: sys/types.h: No such file or directory`\n",
    "\n",
    "Install `musl-dev` and retry:"
   ]
  },
  {
   "cell_type": "raw",
   "metadata": {},
   "source": [
    "apk add --no-cache musl-dev\n",
    "pipenv install --dev --deploy"
   ]
  },
  {
   "cell_type": "markdown",
   "metadata": {},
   "source": [
    "Following installation error will occur:\n",
    "\n",
    "`MySQLdb/_mysql.c:38:10: fatal error: Python.h: No such file or directory`\n",
    "\n",
    "Install `python3-dev` and retry:"
   ]
  },
  {
   "cell_type": "raw",
   "metadata": {},
   "source": [
    "apk add --no-cache python3-dev\n",
    "pipenv install --dev --deploy"
   ]
  },
  {
   "cell_type": "markdown",
   "metadata": {},
   "source": [
    "Installation should succeed!\n",
    "\n",
    "Now activate pipenv shell and verify application works:"
   ]
  },
  {
   "cell_type": "raw",
   "metadata": {},
   "source": [
    "pipenv shell\n",
    "cd src\n",
    "python manage.py test\n",
    "python manage.py runserver"
   ]
  },
  {
   "cell_type": "markdown",
   "metadata": {},
   "source": [
    "Tests should pass but can't connect to server from machine.\n",
    "\n",
    "Instead run the following, application will work, note existing Todo items due to volume mount"
   ]
  },
  {
   "cell_type": "raw",
   "metadata": {},
   "source": [
    "python3 manage.py runserver 0.0.0.0:8000"
   ]
  },
  {
   "cell_type": "markdown",
   "metadata": {},
   "source": [
    "Run `history` command and add commands to Dockerfile"
   ]
  },
  {
   "cell_type": "raw",
   "metadata": {},
   "source": [
    "FROM alpine:3.13\n",
    "LABEL application=todobackend\n",
    "\n",
    "# Language settings\n",
    "ENV LANG=C.UTF-8\n",
    "ENV LC_ALL=C.UTF-8\n",
    "\n",
    "# Install operating system dependencies\n",
    "RUN apk add --no-cache python3-dev py3-pip mariadb-dev gcc musl-dev\n",
    "RUN pip install pipenv\n",
    "\n",
    "# Copy project\n",
    "COPY . /app/\n",
    "WORKDIR /app\n",
    "\n",
    "# Install application dependencies\n",
    "RUN pipenv install --dev --deploy\n",
    "\n",
    "# Test reports\n",
    "VOLUME /reports\n",
    "\n",
    "# Run commands in virtual environment\n",
    "ENTRYPOINT [\"pipenv\", \"run\"]\n",
    "\n",
    "# Run test commands by default\n",
    "WORKDIR /app/src\n",
    "CMD [\"python\", \"manage.py\", \"test\", \"--noinput\"]\n"
   ]
  },
  {
   "cell_type": "markdown",
   "metadata": {},
   "source": [
    "Build Dockerfile and run image:"
   ]
  },
  {
   "cell_type": "raw",
   "metadata": {},
   "source": [
    "docker build -t todobackend .\n",
    "docker run -it --rm todobackend"
   ]
  },
  {
   "cell_type": "markdown",
   "metadata": {},
   "source": [
    "**COMMIT CHANGES**"
   ]
  },
  {
   "cell_type": "markdown",
   "metadata": {},
   "source": [
    "### Improve image"
   ]
  },
  {
   "cell_type": "markdown",
   "metadata": {},
   "source": [
    "Split copy stages for Pipfile"
   ]
  },
  {
   "cell_type": "raw",
   "metadata": {},
   "source": [
    "FROM alpine:3.13\n",
    "LABEL application=todobackend\n",
    "\n",
    "# Language settings\n",
    "ENV LANG=C.UTF-8\n",
    "ENV LC_ALL=C.UTF-8\n",
    "\n",
    "# Install operating system dependencies\n",
    "RUN apk add --no-cache python3-dev py3-pip mariadb-dev gcc musl-dev\n",
    "RUN pip install pipenv\n",
    "\n",
    "# Copy application manifest\n",
    "COPY Pipfile* /app/\n",
    "WORKDIR /app\n",
    "\n",
    "# Install application dependencies\n",
    "RUN pipenv install --dev --deploy\n",
    "\n",
    "# Test reports\n",
    "VOLUME /reports\n",
    "\n",
    "# Run commands in virtual environment\n",
    "ENTRYPOINT [\"pipenv\", \"run\"]\n",
    "\n",
    "# Run test commands by default\n",
    "WORKDIR /app/src\n",
    "CMD [\"python\", \"manage.py\", \"test\", \"--noinput\"]\n",
    "\n",
    "# Copy project\n",
    "COPY . /app/"
   ]
  },
  {
   "cell_type": "markdown",
   "metadata": {},
   "source": [
    "Internally inspect image"
   ]
  },
  {
   "cell_type": "raw",
   "metadata": {},
   "source": [
    "docker run -it --rm todobackend sh\n",
    "cd ..\n",
    "ls -lah (will show .env, .git etc)\n",
    "cd src (will show sqlite3 and xml test files)\n",
    "cd todo (will show pycache files)"
   ]
  },
  {
   "cell_type": "markdown",
   "metadata": {},
   "source": [
    "Create `.dockerignore` file to exclude other files"
   ]
  },
  {
   "cell_type": "raw",
   "metadata": {},
   "source": [
    ".env\n",
    ".git\n",
    ".gitignore\n",
    ".dockerignore\n",
    ".vscode\n",
    "src/.coverage\n",
    "src/*.xml\n",
    "src/*.sqlite3\n",
    "**/__pycache__\n",
    "**/.pytest_cache"
   ]
  },
  {
   "cell_type": "markdown",
   "metadata": {},
   "source": [
    "### Docker build cache"
   ]
  },
  {
   "cell_type": "markdown",
   "metadata": {},
   "source": [
    "First add numpy to pip3 install and time build - will take 2-3 minutes\n",
    "\n",
    "Then add awscli to pip3 install and time build - will take 2-3 minutes"
   ]
  },
  {
   "cell_type": "markdown",
   "metadata": {},
   "source": [
    "Enable Docker BuildKit via .env file:"
   ]
  },
  {
   "cell_type": "raw",
   "metadata": {},
   "source": [
    "PYTHONPATH=${PWD}/src:${PYTHONPATH}\n",
    "DOCKER_BUILDKIT=1"
   ]
  },
  {
   "cell_type": "markdown",
   "metadata": {},
   "source": [
    "Alternative is to add following to Docker daemon configuration file:"
   ]
  },
  {
   "cell_type": "raw",
   "metadata": {},
   "source": [
    "{\n",
    "  \"features\": {\n",
    "    \"buildkit\": true\n",
    "  },\n",
    "  \"experimental\": false\n",
    "}"
   ]
  },
  {
   "cell_type": "markdown",
   "metadata": {},
   "source": [
    "Now add support for build cache:"
   ]
  },
  {
   "cell_type": "raw",
   "metadata": {},
   "source": [
    "FROM alpine:3.13\n",
    "LABEL application=todobackend\n",
    "\n",
    "# Language settings\n",
    "ENV LANG=C.UTF-8\n",
    "ENV LC_ALL=C.UTF-8\n",
    "\n",
    "# Install build dependencies\n",
    "RUN apk add --no-cache python3-dev py3-pip mariadb-dev gcc musl-dev\n",
    "RUN --mount=type=cache,target=/root/.cache/pip \\\n",
    "    pip3 install pipenv\n",
    "\n",
    "# Copy Pipfiles\n",
    "COPY Pipfile* /app/\n",
    "WORKDIR /app\n",
    "\n",
    "# Build and install application dependencies\n",
    "RUN pipenv install --dev --deploy\n",
    "\n",
    "# Test reports\n",
    "VOLUME /reports\n",
    "\n",
    "# Run commands in virtual environment\n",
    "ENTRYPOINT [\"pipenv\", \"run\"]\n",
    "\n",
    "# Run test commands by default\n",
    "WORKDIR /app/src\n",
    "CMD [\"python\", \"manage.py\", \"test\", \"--noinput\"]\n",
    "\n",
    "# Copy project\n",
    "COPY . /app/"
   ]
  },
  {
   "cell_type": "markdown",
   "metadata": {},
   "source": [
    "First add numpy to pip3 install and time build - will take 2-3 minutes\n",
    "\n",
    "Then add awscli to pip3 install and time build - will take much shorter time"
   ]
  },
  {
   "cell_type": "markdown",
   "metadata": {},
   "source": [
    "Now add numpy via pipenv install and time build - will take 2-3 minutes\n",
    "\n",
    "Add awscli via pipenv install and time build - will take 2-3 minutes\n",
    "\n",
    "Add support for build cache:"
   ]
  },
  {
   "cell_type": "raw",
   "metadata": {},
   "source": [
    "FROM alpine:3.13\n",
    "LABEL application=todobackend\n",
    "\n",
    "# Language settings\n",
    "ENV LANG=C.UTF-8\n",
    "ENV LC_ALL=C.UTF-8\n",
    "\n",
    "# Install build dependencies\n",
    "RUN apk add --no-cache python3-dev py3-pip mariadb-dev gcc musl-dev rsync\n",
    "RUN --mount=type=cache,target=/root/.cache \\\n",
    "    pip3 install pipenv\n",
    "\n",
    "# Create skeleton virtual environment\n",
    "WORKDIR /app\n",
    "RUN pipenv install\n",
    "\n",
    "# Copy Pipfiles\n",
    "COPY Pipfile* /app/\n",
    "\n",
    "# Build and install application dependencies\n",
    "RUN --mount=type=cache,target=/root/.cache \\\n",
    "    --mount=type=cache,target=/root/.local/share/virtualenvs \\\n",
    "    --mount=type=cache,target=/tmp/cache/build \\\n",
    "    pipenv install --dev --deploy && \\\n",
    "    pipenv clean && \\\n",
    "    rsync -avh --delete /root/.local/share/virtualenvs/ /tmp/cache/build/\n",
    "\n",
    "# Copy virtual environment from temporary build cache\n",
    "RUN --mount=type=cache,target=/tmp/cache/build \\\n",
    "    rsync -avh --delete /tmp/cache/build/ /root/.local/share/virtualenvs/\n",
    "\n",
    "# Test reports\n",
    "VOLUME /reports\n",
    "\n",
    "# Run commands in virtual environment\n",
    "ENTRYPOINT [\"pipenv\", \"run\"]\n",
    "\n",
    "# Run test commands by default\n",
    "WORKDIR /app/src\n",
    "CMD [\"python\", \"manage.py\", \"test\", \"--noinput\"]\n",
    "\n",
    "# Copy project\n",
    "COPY . /app/"
   ]
  },
  {
   "cell_type": "markdown",
   "metadata": {},
   "source": [
    "Now add numpy via pipenv install and time build - will take 2-3 minutes\n",
    "\n",
    "Add awscli via pipenv install and time build - will take much shorter time\n",
    "\n",
    "Discuss `docker builder prune` command"
   ]
  },
  {
   "cell_type": "markdown",
   "metadata": {},
   "source": [
    "**COMMIT CHANGES**"
   ]
  },
  {
   "cell_type": "markdown",
   "metadata": {},
   "source": [
    "### Docker Compose"
   ]
  },
  {
   "cell_type": "markdown",
   "metadata": {},
   "source": [
    "Try to run tests using the test settings, this will fail with a DB connection error:"
   ]
  },
  {
   "cell_type": "raw",
   "metadata": {},
   "source": [
    "docker run -it --rm -e DJANGO_SETTINGS_MODULE=todobackend.settings.test todobackend"
   ]
  },
  {
   "cell_type": "markdown",
   "metadata": {},
   "source": [
    "Create a docker-compose.yml file:"
   ]
  },
  {
   "cell_type": "raw",
   "metadata": {},
   "source": [
    "version: '2.4'\n",
    "\n",
    "services:\n",
    "  # Test environment\n",
    "  test:\n",
    "    build:\n",
    "      context: .\n",
    "      dockerfile: Dockerfile"
   ]
  },
  {
   "cell_type": "markdown",
   "metadata": {},
   "source": [
    "Enable Docker BuildKit via .env file:"
   ]
  },
  {
   "cell_type": "raw",
   "metadata": {},
   "source": [
    "PYTHONPATH=${PWD}/src:${PYTHONPATH}\n",
    "DOCKER_BUILDKIT=1\n",
    "COMPOSE_DOCKER_CLI_BUILD=1"
   ]
  },
  {
   "cell_type": "markdown",
   "metadata": {},
   "source": [
    "Run `docker-compose up`"
   ]
  },
  {
   "cell_type": "markdown",
   "metadata": {},
   "source": [
    "Add test settings and database service to `docker-compose.yaml`:"
   ]
  },
  {
   "cell_type": "raw",
   "metadata": {},
   "source": [
    "version: '2.4'\n",
    "\n",
    "services:\n",
    "  # Test environment\n",
    "  test-app:\n",
    "    build:\n",
    "      context: .\n",
    "      dockerfile: Dockerfile\n",
    "    environment:\n",
    "      DJANGO_SETTINGS_MODULE: todobackend.settings.test\n",
    "      TEST_OUTPUT_DIR: /reports\n",
    "      MYSQL_HOST: db\n",
    "      MYSQL_USER: root\n",
    "      MYSQL_PASSWORD: password\n",
    "  # Database service\n",
    "  db:\n",
    "    image: mariadb:10.5\n",
    "    environment:\n",
    "      MYSQL_ROOT_PASSWORD: password"
   ]
  },
  {
   "cell_type": "markdown",
   "metadata": {},
   "source": [
    "Run `docker-compose up db`\n",
    "Then run `docker-compose up test-app`\n",
    "\n",
    "To create dependency add the following:"
   ]
  },
  {
   "cell_type": "raw",
   "metadata": {},
   "source": [
    "version: '2.4'\n",
    "\n",
    "services:\n",
    "  # Test environment\n",
    "  test-app:\n",
    "    build:\n",
    "      context: .\n",
    "      dockerfile: Dockerfile\n",
    "    depends_on:\n",
    "      db:\n",
    "        condition: service_healthy\n",
    "    environment:\n",
    "      DJANGO_SETTINGS_MODULE: todobackend.settings.test\n",
    "      TEST_OUTPUT_DIR: /reports\n",
    "      MYSQL_HOST: db\n",
    "      MYSQL_USER: root\n",
    "      MYSQL_PASSWORD: password\n",
    "  # Database service\n",
    "  db:\n",
    "    image: mariadb:10.5\n",
    "    healthcheck:\n",
    "      test: mysqlshow -u root -ppassword\n",
    "      interval: 3s\n",
    "      retries: 10\n",
    "    environment:\n",
    "      MYSQL_ROOT_PASSWORD: password"
   ]
  },
  {
   "cell_type": "markdown",
   "metadata": {},
   "source": [
    "Demonstrate `docker cp $(docker-compose ps -q test-app):/reports .`"
   ]
  },
  {
   "cell_type": "markdown",
   "metadata": {},
   "source": [
    "**COMMIT CHANGES**"
   ]
  },
  {
   "cell_type": "markdown",
   "metadata": {},
   "source": [
    "### Creating Release Images"
   ]
  },
  {
   "cell_type": "markdown",
   "metadata": {},
   "source": [
    "Create application release settings in `src/todobackend/settings/release.py`:"
   ]
  },
  {
   "cell_type": "raw",
   "metadata": {},
   "source": [
    "from todobackend.settings import *\n",
    "import os\n",
    "\n",
    "# Debug\n",
    "if os.environ.get('DEBUG', 'false').lower() in ['true', 'yes', '1']:\n",
    "    DEBUG = True\n",
    "else:\n",
    "    DEBUG = False\n",
    "\n",
    "# Must be explicitly specified when Debug is disabled\n",
    "ALLOWED_HOSTS = os.environ.get('ALLOWED_HOSTS', '*').split(',')\n",
    "\n",
    "# Set secret key\n",
    "SECRET_KEY = os.environ.get('SECRET_KEY', SECRET_KEY)\n",
    "\n",
    "# Database settings\n",
    "DATABASES = {\n",
    "    'default': {\n",
    "        'ENGINE': 'django.db.backends.mysql',\n",
    "        'NAME': os.environ.get('MYSQL_DATABASE','todobackend'),\n",
    "        'USER': os.environ.get('MYSQL_USER','todo'),\n",
    "        'PASSWORD': os.environ.get('MYSQL_PASSWORD','password'),\n",
    "        'HOST': os.environ.get('MYSQL_HOST','localhost'),\n",
    "        'PORT': os.environ.get('MYSQL_PORT','3306'),\n",
    "    }\n",
    "}\n",
    "\n",
    "# Static content settings\n",
    "STATIC_ROOT = os.environ.get('STATIC_ROOT', '/public/static')\n",
    "MEDIA_ROOT = os.environ.get('MEDIA_ROOT', '/public/media')"
   ]
  },
  {
   "cell_type": "markdown",
   "metadata": {},
   "source": [
    "Add uwsgi to dependencies (this will initially fail in Docker image, requires linux-headers OS library)"
   ]
  },
  {
   "cell_type": "raw",
   "metadata": {},
   "source": [
    "pipenv install uwsgi"
   ]
  },
  {
   "cell_type": "markdown",
   "metadata": {},
   "source": [
    "Build production virtual environment in Docker image"
   ]
  },
  {
   "cell_type": "raw",
   "metadata": {},
   "source": [
    "FROM alpine:3.13\n",
    "LABEL application=todobackend\n",
    "\n",
    "# Language settings\n",
    "ENV LANG=C.UTF-8\n",
    "ENV LC_ALL=C.UTF-8\n",
    "\n",
    "# Install operating system dependencies\n",
    "RUN apk add --no-cache python3-dev py3-pip mariadb-dev gcc musl-dev linux-headers rsync\n",
    "RUN --mount=type=cache,target=/root/.cache/pip \\\n",
    "    pip install pipenv\n",
    "\n",
    "# Copy application manifest\n",
    "COPY Pipfile* /app/\n",
    "WORKDIR /app\n",
    "\n",
    "# Install application dependencies\n",
    "RUN --mount=type=cache,target=/root/.cache \\\n",
    "    --mount=type=cache,target=/root/.local/share/virtualenvs \\\n",
    "    --mount=type=cache,target=/tmp/cache/build \\\n",
    "    pipenv install --dev --deploy && \\\n",
    "    pipenv clean && \\\n",
    "    rsync -avh --delete /root/.local/share/virtualenvs/ /tmp/cache/build/\n",
    "\n",
    "# Copy virtual environment from temporary build cache\n",
    "RUN --mount=type=cache,target=/tmp/cache/build \\\n",
    "    rsync -avh --delete /tmp/cache/build/ /root/.local/share/virtualenvs/\n",
    "\n",
    "# Build production virtual environment\n",
    "RUN --mount=type=cache,target=/root/.cache \\\n",
    "    --mount=type=cache,target=/app/venv \\\n",
    "    --mount=type=cache,target=/tmp/cache/release \\\n",
    "    virtualenv /app/venv && \\\n",
    "    VIRTUAL_ENV=/app/venv pipenv install --deploy && \\\n",
    "    VIRTUAL_ENV=/app/venv pipenv clean && \\\n",
    "    rsync -avh --delete /app/venv/ /tmp/cache/release/\n",
    "\n",
    "# Copy production virtual environment from temporary build cache\n",
    "RUN --mount=type=cache,target=/tmp/cache/release \\\n",
    "    rsync -avh --delete /tmp/cache/release/ /app/venv/\n",
    "\n",
    "# Test reports\n",
    "VOLUME /reports\n",
    "\n",
    "# Run commands in virtual environment\n",
    "ENTRYPOINT [\"pipenv\", \"run\"]\n",
    "\n",
    "# Run test commands by default\n",
    "WORKDIR /app/src\n",
    "CMD [\"python\", \"manage.py\", \"test\", \"--noinput\"]\n",
    "\n",
    "# Copy project\n",
    "COPY . /app/\n"
   ]
  },
  {
   "cell_type": "markdown",
   "metadata": {},
   "source": [
    "Run image and compare dev and production virtual environments:"
   ]
  },
  {
   "cell_type": "raw",
   "metadata": {},
   "source": [
    "docker-compose build\n",
    "docker-compose run test-app sh\n",
    "docker run -it --rm --entrypoint sh todobackend \n",
    "ls -l $(pipenv --venv)/lib/python3.8/site-packages/\n",
    "ls -l /app/venv/lib/python3.8/site-packages/"
   ]
  },
  {
   "cell_type": "markdown",
   "metadata": {},
   "source": [
    "Add multistage build to `Dockerfile` and `docker-compose.yaml`:"
   ]
  },
  {
   "cell_type": "raw",
   "metadata": {},
   "source": [
    "###############################\n",
    "####   DEVELOPMENT STAGE   ####\n",
    "###############################\n",
    "FROM alpine:3.13 AS development\n",
    "LABEL application=todobackend\n",
    "\n",
    "# Language settings\n",
    "ENV LANG=C.UTF-8\n",
    "ENV LC_ALL=C.UTF-8\n",
    "\n",
    "# Install operating system dependencies\n",
    "RUN apk add --no-cache python3-dev py3-pip mariadb-dev gcc musl-dev linux-headers rsync\n",
    "RUN --mount=type=cache,target=/root/.cache/pip \\\n",
    "    pip install pipenv\n",
    "\n",
    "# Copy application manifest\n",
    "COPY Pipfile* /app/\n",
    "WORKDIR /app\n",
    "\n",
    "# Install application dependencies\n",
    "RUN --mount=type=cache,target=/root/.cache \\\n",
    "    --mount=type=cache,target=/root/.local/share/virtualenvs \\\n",
    "    --mount=type=cache,target=/tmp/cache/build \\\n",
    "    pipenv install --dev --deploy && \\\n",
    "    pipenv clean && \\\n",
    "    rsync -avh --delete /root/.local/share/virtualenvs/ /tmp/cache/build/\n",
    "\n",
    "# Copy virtual environment from temporary build cache\n",
    "RUN --mount=type=cache,target=/tmp/cache/build \\\n",
    "    rsync -avh --delete /tmp/cache/build/ /root/.local/share/virtualenvs/\n",
    "\n",
    "# Build production virtual environment\n",
    "RUN --mount=type=cache,target=/root/.cache \\\n",
    "    --mount=type=cache,target=/app/venv \\\n",
    "    --mount=type=cache,target=/tmp/cache/release \\\n",
    "    virtualenv /app/venv && \\\n",
    "    VIRTUAL_ENV=/app/venv pipenv install --deploy && \\\n",
    "    VIRTUAL_ENV=/app/venv pipenv clean && \\\n",
    "    rsync -avh --delete /app/venv/ /tmp/cache/release/\n",
    "\n",
    "# Copy production virtual environment from temporary build cache\n",
    "RUN --mount=type=cache,target=/tmp/cache/release \\\n",
    "    rsync -avh --delete /tmp/cache/release/ /app/venv/\n",
    "\n",
    "# Test reports\n",
    "VOLUME /reports\n",
    "\n",
    "# Run commands in virtual environment\n",
    "ENTRYPOINT [\"pipenv\", \"run\"]\n",
    "\n",
    "# Run test commands by default\n",
    "WORKDIR /app/src\n",
    "CMD [\"python\", \"manage.py\", \"test\", \"--noinput\"]\n",
    "\n",
    "# Copy project\n",
    "COPY . /app/\n",
    "\n",
    "###########################\n",
    "####   RELEASE STAGE   ####\n",
    "###########################\n",
    "FROM alpine:3.13 AS release\n",
    "LABEL application=todobackend\n",
    "\n",
    "# Language settings\n",
    "ENV LANG=C.UTF-8\n",
    "ENV LC_ALL=C.UTF-8\n",
    "\n",
    "# Install operating system dependencies\n",
    "RUN apk add --no-cache python3 mariadb-connector-c\n",
    "\n",
    "# Create application user\n",
    "RUN addgroup -g 1000 app && \\\n",
    "    adduser -u 1000 -G app -D app\n",
    "\n",
    "# Copy application files\n",
    "COPY --from=development --chown=app:app /app /app\n",
    "\n",
    "# Public content\n",
    "VOLUME /public\n",
    "\n",
    "# Set virtual environment path, working directory and application user\n",
    "ENV PATH=\"/app/venv/bin:$PATH\"\n",
    "WORKDIR /app/src\n",
    "USER app"
   ]
  },
  {
   "cell_type": "markdown",
   "metadata": {},
   "source": [
    "Add release environment to `docker-compose.yml`:"
   ]
  },
  {
   "cell_type": "raw",
   "metadata": {},
   "source": [
    "version: '2.4'\n",
    "\n",
    "services:\n",
    "  # Test environment\n",
    "  test-app:\n",
    "    build:\n",
    "      context: .\n",
    "      dockerfile: Dockerfile\n",
    "      target: development\n",
    "    depends_on:\n",
    "      db:\n",
    "        condition: service_healthy\n",
    "    environment:\n",
    "      DJANGO_SETTINGS_MODULE: todobackend.settings.test\n",
    "      TEST_OUTPUT_DIR: /reports\n",
    "      MYSQL_HOST: db\n",
    "      MYSQL_USER: root\n",
    "      MYSQL_PASSWORD: password\n",
    "  # Database service\n",
    "  db:\n",
    "    image: mariadb:10.5\n",
    "    healthcheck:\n",
    "      test: mysqlshow -u $$MYSQL_USER -p$$MYSQL_PASSWORD\n",
    "      interval: 3s\n",
    "      retries: 10\n",
    "    environment:\n",
    "      MYSQL_DATABASE: todobackend\n",
    "      MYSQL_USER: todo\n",
    "      MYSQL_PASSWORD: password\n",
    "      MYSQL_ROOT_PASSWORD: password\n",
    "  # Release environment\n",
    "  release-app:\n",
    "    build:\n",
    "      context: .\n",
    "      dockerfile: Dockerfile\n",
    "      target: release\n",
    "    depends_on:\n",
    "      db:\n",
    "        condition: service_healthy\n",
    "    environment:\n",
    "      DEBUG: 'true'\n",
    "      DJANGO_SETTINGS_MODULE: todobackend.settings.release\n",
    "      MYSQL_HOST: db\n",
    "      MYSQL_USER: todo\n",
    "      MYSQL_PASSWORD: password\n",
    "    ports:\n",
    "      - 8000:8000\n",
    "    command:\n",
    "      - uwsgi\n",
    "      - --http=0.0.0.0:8000\n",
    "      - --module=todobackend.wsgi\n",
    "      - --master\n",
    "      - --check-static=/public\n",
    "      - --die-on-term\n",
    "      - --processes=4\n",
    "      - --threads=10"
   ]
  },
  {
   "cell_type": "markdown",
   "metadata": {},
   "source": [
    "Run `docker-compose up app` and connect to localhost:8000 - note lack of static content and DB migrations"
   ]
  },
  {
   "cell_type": "markdown",
   "metadata": {},
   "source": [
    "Add services for migrations and static content:"
   ]
  },
  {
   "cell_type": "raw",
   "metadata": {},
   "source": [
    "version: '2.4'\n",
    "\n",
    "volumes:\n",
    "  public:\n",
    "    driver: local\n",
    "\n",
    "services:\n",
    "  # Test environment\n",
    "  test-app:\n",
    "    build:\n",
    "      context: .\n",
    "      dockerfile: Dockerfile\n",
    "      target: development\n",
    "    depends_on:\n",
    "      db:\n",
    "        condition: service_healthy\n",
    "    environment:\n",
    "      DJANGO_SETTINGS_MODULE: todobackend.settings.test\n",
    "      TEST_OUTPUT_DIR: /reports\n",
    "      MYSQL_HOST: db\n",
    "      MYSQL_USER: root\n",
    "      MYSQL_PASSWORD: password\n",
    "  # Database service\n",
    "  db:\n",
    "    image: mariadb:10.5\n",
    "    healthcheck:\n",
    "      test: mysqlshow -u $$MYSQL_USER -p$$MYSQL_PASSWORD\n",
    "      interval: 3s\n",
    "      retries: 10\n",
    "    environment:\n",
    "      MYSQL_DATABASE: todobackend\n",
    "      MYSQL_USER: todo\n",
    "      MYSQL_PASSWORD: password\n",
    "      MYSQL_ROOT_PASSWORD: password\n",
    "  # Release environment\n",
    "  release:\n",
    "    build:\n",
    "      context: .\n",
    "      dockerfile: Dockerfile\n",
    "      target: release\n",
    "    environment:\n",
    "      DEBUG: 'true'\n",
    "      DJANGO_SETTINGS_MODULE: todobackend.settings.release\n",
    "      MYSQL_HOST: db\n",
    "      MYSQL_USER: todo\n",
    "      MYSQL_PASSWORD: password\n",
    "  release-app:\n",
    "    extends:\n",
    "      service: release\n",
    "    depends_on:\n",
    "      release-migrate:\n",
    "        condition: service_completed_successfully\n",
    "      release-content:\n",
    "        condition: service_completed_successfully\n",
    "      db:\n",
    "        condition: service_healthy\n",
    "    healthcheck:\n",
    "      test: curl -fs localhost:8000\n",
    "      interval: 3s\n",
    "      retries: 10\n",
    "    volumes:\n",
    "      - public:/public\n",
    "    ports:\n",
    "      - 8000:8000\n",
    "    command:\n",
    "      - uwsgi\n",
    "      - --http=0.0.0.0:8000\n",
    "      - --module=todobackend.wsgi\n",
    "      - --master\n",
    "      - --check-static=/public\n",
    "      - --die-on-term\n",
    "      - --processes=4\n",
    "      - --threads=10\n",
    "  release-content:\n",
    "    extends:\n",
    "      service: release\n",
    "    volumes:\n",
    "      - public:/public\n",
    "    command:\n",
    "      - python\n",
    "      - manage.py\n",
    "      - collectstatic\n",
    "      - --no-input\n",
    "  release-migrate:\n",
    "    extends:\n",
    "      service: release\n",
    "    depends_on:\n",
    "      db:\n",
    "        condition: service_healthy\n",
    "    command:\n",
    "      - python\n",
    "      - manage.py\n",
    "      - migrate\n",
    "      - --no-input\n"
   ]
  },
  {
   "cell_type": "markdown",
   "metadata": {},
   "source": [
    "If you now run the `docker-compose up --abort-on-container-exit release-app` command, this will fail.\n",
    "\n",
    "Use `docker-compose ps` and `docker-compose logs release-content` to determine this is a permissions error on /public\n",
    "\n",
    "To fix, create /public and set app user as owner BEFORE the volume directive in the Dockerfile release stage:"
   ]
  },
  {
   "cell_type": "raw",
   "metadata": {},
   "source": [
    "###############################\n",
    "####   DEVELOPMENT STAGE   ####\n",
    "###############################\n",
    "FROM alpine:3.13 AS development\n",
    "LABEL application=todobackend\n",
    "\n",
    "# Language settings\n",
    "ENV LANG=C.UTF-8\n",
    "ENV LC_ALL=C.UTF-8\n",
    "\n",
    "# Install operating system dependencies\n",
    "RUN apk add --no-cache python3-dev py3-pip mariadb-dev gcc musl-dev linux-headers rsync\n",
    "RUN --mount=type=cache,target=/root/.cache/pip \\\n",
    "    pip install pipenv\n",
    "\n",
    "# Copy application manifest\n",
    "COPY Pipfile* /app/\n",
    "WORKDIR /app\n",
    "\n",
    "# Install application dependencies\n",
    "RUN --mount=type=cache,target=/root/.cache \\\n",
    "    --mount=type=cache,target=/root/.local/share/virtualenvs \\\n",
    "    --mount=type=cache,target=/tmp/cache/build \\\n",
    "    pipenv install --dev --deploy && \\\n",
    "    pipenv clean && \\\n",
    "    rsync -avh --delete /root/.local/share/virtualenvs/ /tmp/cache/build/\n",
    "\n",
    "# Copy virtual environment from temporary build cache\n",
    "RUN --mount=type=cache,target=/tmp/cache/build \\\n",
    "    rsync -avh --delete /tmp/cache/build/ /root/.local/share/virtualenvs/\n",
    "\n",
    "# Build production virtual environment\n",
    "RUN --mount=type=cache,target=/root/.cache \\\n",
    "    --mount=type=cache,target=/app/venv \\\n",
    "    --mount=type=cache,target=/tmp/cache/release \\\n",
    "    virtualenv /app/venv && \\\n",
    "    VIRTUAL_ENV=/app/venv pipenv install --deploy && \\\n",
    "    VIRTUAL_ENV=/app/venv pipenv clean && \\\n",
    "    rsync -avh --delete /app/venv/ /tmp/cache/release/\n",
    "\n",
    "# Copy production virtual environment from temporary build cache\n",
    "RUN --mount=type=cache,target=/tmp/cache/release \\\n",
    "    rsync -avh --delete /tmp/cache/release/ /app/venv/\n",
    "\n",
    "# Test reports\n",
    "VOLUME /reports\n",
    "\n",
    "# Run commands in virtual environment\n",
    "ENTRYPOINT [\"pipenv\", \"run\"]\n",
    "\n",
    "# Run test commands by default\n",
    "WORKDIR /app/src\n",
    "CMD [\"python\", \"manage.py\", \"test\", \"--noinput\"]\n",
    "\n",
    "# Copy project\n",
    "COPY . /app/\n",
    "\n",
    "###########################\n",
    "####   RELEASE STAGE   ####\n",
    "###########################\n",
    "FROM alpine:3.13 AS release\n",
    "LABEL application=todobackend\n",
    "\n",
    "# Language settings\n",
    "ENV LANG=C.UTF-8\n",
    "ENV LC_ALL=C.UTF-8\n",
    "\n",
    "# Install operating system dependencies\n",
    "RUN apk add --no-cache python3 mariadb-connector-c\n",
    "\n",
    "# Create application user\n",
    "RUN addgroup -g 1000 app && \\\n",
    "    adduser -u 1000 -G app -D app\n",
    "\n",
    "# Copy application files\n",
    "COPY --from=development --chown=app:app /app /app\n",
    "\n",
    "# Public content\n",
    "RUN mkdir -p /public && \\\n",
    "    chown -R app:app /public\n",
    "VOLUME /public\n",
    "\n",
    "# Set virtual environment path, working directory and application user\n",
    "ENV PATH=\"/app/venv/bin:$PATH\"\n",
    "WORKDIR /app/src\n",
    "USER app\n"
   ]
  },
  {
   "cell_type": "markdown",
   "metadata": {},
   "source": [
    "Tear down environment and then run `docker-compose up --abort-on-container-exit release-app` command.\n",
    "\n",
    "Application should work OK now"
   ]
  },
  {
   "cell_type": "markdown",
   "metadata": {},
   "source": [
    "Add acceptance tests"
   ]
  },
  {
   "cell_type": "raw",
   "metadata": {},
   "source": [
    "version: '2.4'\n",
    "\n",
    "volumes:\n",
    "  public:\n",
    "    driver: local\n",
    "\n",
    "services:\n",
    "  # Test environment\n",
    "  test:\n",
    "    build:\n",
    "      context: .\n",
    "      dockerfile: Dockerfile\n",
    "      target: development\n",
    "  test-app:\n",
    "    extends:\n",
    "      service: test\n",
    "    depends_on:\n",
    "      db:\n",
    "        condition: service_healthy\n",
    "    environment:\n",
    "      DJANGO_SETTINGS_MODULE: todobackend.settings.test\n",
    "      TEST_OUTPUT_DIR: /reports\n",
    "      MYSQL_HOST: db\n",
    "      MYSQL_USER: root\n",
    "      MYSQL_PASSWORD: password\n",
    "  # Database service\n",
    "  db:\n",
    "    image: mariadb:10.5\n",
    "    healthcheck:\n",
    "      test: mysqlshow -u $$MYSQL_USER -p$$MYSQL_PASSWORD\n",
    "      interval: 3s\n",
    "      retries: 10\n",
    "    environment:\n",
    "      MYSQL_DATABASE: todobackend\n",
    "      MYSQL_USER: todo\n",
    "      MYSQL_PASSWORD: password\n",
    "      MYSQL_ROOT_PASSWORD: password\n",
    "  # Acceptance tests\n",
    "  acceptance:\n",
    "    extends:\n",
    "      service: test\n",
    "    depends_on:\n",
    "      release-app:\n",
    "        condition: service_healthy\n",
    "    environment:\n",
    "      TEST_URL: http://release-app:8000/todos\n",
    "    working_dir: /app\n",
    "    command:\n",
    "      - pytest\n",
    "      - tests/acceptance\n",
    "      - -v\n",
    "      - --junitxml=/reports/acceptance.xml\n",
    "  # Release environment\n",
    "  release:\n",
    "    build:\n",
    "      context: .\n",
    "      dockerfile: Dockerfile\n",
    "      target: release\n",
    "    environment:\n",
    "      DEBUG: 'true'\n",
    "      DJANGO_SETTINGS_MODULE: todobackend.settings.release\n",
    "      MYSQL_HOST: db\n",
    "      MYSQL_USER: todo\n",
    "      MYSQL_PASSWORD: password\n",
    "  release-app:\n",
    "    extends:\n",
    "      service: release\n",
    "    depends_on:\n",
    "      release-migrate:\n",
    "        condition: service_completed_successfully\n",
    "      release-content:\n",
    "        condition: service_completed_successfully\n",
    "      db:\n",
    "        condition: service_healthy\n",
    "    healthcheck:\n",
    "      test: curl -fs localhost:8000\n",
    "      interval: 3s\n",
    "      retries: 10\n",
    "    volumes:\n",
    "      - public:/public\n",
    "    ports:\n",
    "      - 8000:8000\n",
    "    command:\n",
    "      - uwsgi\n",
    "      - --http=0.0.0.0:8000\n",
    "      - --module=todobackend.wsgi\n",
    "      - --master\n",
    "      - --check-static=/public\n",
    "      - --die-on-term\n",
    "      - --processes=4\n",
    "      - --threads=10\n",
    "  release-content:\n",
    "    extends:\n",
    "      service: release\n",
    "    volumes:\n",
    "      - public:/public\n",
    "    command:\n",
    "      - python\n",
    "      - manage.py\n",
    "      - collectstatic\n",
    "      - --no-input\n",
    "  release-migrate:\n",
    "    extends:\n",
    "      service: release\n",
    "    depends_on:\n",
    "      db:\n",
    "        condition: service_healthy\n",
    "    command:\n",
    "      - python\n",
    "      - manage.py\n",
    "      - migrate\n",
    "      - --no-input"
   ]
  },
  {
   "cell_type": "markdown",
   "metadata": {},
   "source": [
    "Add curl"
   ]
  },
  {
   "cell_type": "raw",
   "metadata": {},
   "source": [
    "########################\n",
    "####   TEST STAGE   ####\n",
    "########################\n",
    "FROM alpine:3.13 as test\n",
    "LABEL application=todobackend\n",
    "\n",
    "# Language settings\n",
    "ENV LANG=C.UTF-8\n",
    "ENV LC_ALL=C.UTF-8\n",
    "\n",
    "# Install build dependencies\n",
    "RUN apk add --no-cache python3-dev py3-pip mariadb-dev gcc musl-dev linux-headers rsync\n",
    "RUN --mount=type=cache,target=/root/.cache \\\n",
    "    pip install pipenv\n",
    "\n",
    "# Create skeleton virtual environment\n",
    "WORKDIR /app\n",
    "RUN pipenv install\n",
    "\n",
    "# Copy Pipfiles\n",
    "COPY Pipfile* /app/\n",
    "\n",
    "# Build and install application dependencies\n",
    "RUN --mount=type=cache,target=/root/.cache \\\n",
    "    --mount=type=cache,target=/root/.local/share/virtualenvs \\\n",
    "    --mount=type=cache,target=/build \\\n",
    "    pipenv install --dev && \\\n",
    "    pipenv clean && \\\n",
    "    rsync -avh --delete $(pipenv --venv)/ /build/\n",
    "\n",
    "# Copy virtual environment from temporary build cache\n",
    "RUN --mount=type=cache,target=/build \\\n",
    "    rsync -avh --delete /build/ $(pipenv --venv)/\n",
    "  \n",
    "# Build production virtual environment\n",
    "RUN --mount=type=cache,target=/root/.cache \\\n",
    "    --mount=type=cache,target=/app/venv \\\n",
    "    --mount=type=cache,target=/build \\\n",
    "    virtualenv /app/venv && \\\n",
    "    VIRTUAL_ENV=/app/venv pipenv install --deploy && \\\n",
    "    VIRTUAL_ENV=/app/venv pipenv clean && \\\n",
    "    rsync -avh --delete /app/venv/ /build/\n",
    "\n",
    "# Copy production virtual environment from temporary build cache\n",
    "RUN --mount=type=cache,target=/build \\\n",
    "    rsync -avh --delete /build/ /app/venv/\n",
    "\n",
    "# Test reports\n",
    "VOLUME /reports\n",
    "\n",
    "# Run commands in virtual environment\n",
    "ENTRYPOINT [\"pipenv\", \"run\"]\n",
    "\n",
    "# Run test commands by default\n",
    "WORKDIR /app/src\n",
    "CMD [\"python\", \"manage.py\", \"test\", \"--noinput\"]\n",
    "\n",
    "# Copy project\n",
    "COPY . /app/\n",
    "\n",
    "###########################\n",
    "####   RELEASE STAGE   ####\n",
    "###########################\n",
    "FROM alpine:3.13 as release\n",
    "LABEL application=todobackend\n",
    "\n",
    "# Language settings\n",
    "ENV LANG=C.UTF-8\n",
    "ENV LC_ALL=C.UTF-8\n",
    "\n",
    "# Install operating system dependencies\n",
    "RUN apk add --no-cache python3 mariadb-connector-c curl\n",
    "\n",
    "# Create application user\n",
    "RUN addgroup -g 1000 app && \\\n",
    "    adduser -u 1000 -G app -D app\n",
    "\n",
    "# Copy application files\n",
    "COPY --from=test --chown=app:app /app /app\n",
    "\n",
    "# Create public and reports volumes\n",
    "RUN mkdir /public /reports\n",
    "RUN chown app:app /public /reports\n",
    "VOLUME /public /reports\n",
    "\n",
    "# Set virtual environment path, working directory and application user\n",
    "ENV PATH=\"/app/venv/bin:$PATH\"\n",
    "WORKDIR /app/src\n",
    "USER app"
   ]
  },
  {
   "cell_type": "markdown",
   "metadata": {},
   "source": [
    "Tear down environment and then run:\n",
    "\n",
    "\n",
    "- `docker-compose build`\n",
    "- `docker-compose up --abort-on-container-exit test-app`\n",
    "- `docker-compose up --abort-on-container-exit acceptance`\n",
    "\n",
    "All integration and acceptance tests should pass"
   ]
  },
  {
   "cell_type": "markdown",
   "metadata": {},
   "source": [
    "**COMMIT CHANGES**"
   ]
  }
 ],
 "metadata": {
  "kernelspec": {
   "display_name": "todobackend",
   "language": "python",
   "name": "todobackend"
  },
  "language_info": {
   "codemirror_mode": {
    "name": "ipython",
    "version": 3
   },
   "file_extension": ".py",
   "mimetype": "text/x-python",
   "name": "python",
   "nbconvert_exporter": "python",
   "pygments_lexer": "ipython3",
   "version": "3.7.7"
  }
 },
 "nbformat": 4,
 "nbformat_minor": 4
}
